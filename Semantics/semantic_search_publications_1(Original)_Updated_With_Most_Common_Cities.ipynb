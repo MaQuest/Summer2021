{
  "nbformat": 4,
  "nbformat_minor": 0,
  "metadata": {
    "colab": {
      "name": "semantic_search_publications-1(Original)-Updated_With_Most_Common_Cities.ipynb",
      "provenance": []
    },
    "kernelspec": {
      "name": "python3",
      "display_name": "Python 3"
    },
    "language_info": {
      "name": "python"
    },
    "widgets": {
      "application/vnd.jupyter.widget-state+json": {
        "550dd2b46c1b4e2a906cdfff5aab1805": {
          "model_module": "@jupyter-widgets/controls",
          "model_name": "HBoxModel",
          "state": {
            "_view_name": "HBoxView",
            "_dom_classes": [],
            "_model_name": "HBoxModel",
            "_view_module": "@jupyter-widgets/controls",
            "_model_module_version": "1.5.0",
            "_view_count": null,
            "_view_module_version": "1.5.0",
            "box_style": "",
            "layout": "IPY_MODEL_257dc503a85e41e698fbed77cf20a563",
            "_model_module": "@jupyter-widgets/controls",
            "children": [
              "IPY_MODEL_a88d51eb811540089f96bfbc10d04bf8",
              "IPY_MODEL_df0ec4dad3904437a519808e6a6db238"
            ]
          }
        },
        "257dc503a85e41e698fbed77cf20a563": {
          "model_module": "@jupyter-widgets/base",
          "model_name": "LayoutModel",
          "state": {
            "_view_name": "LayoutView",
            "grid_template_rows": null,
            "right": null,
            "justify_content": null,
            "_view_module": "@jupyter-widgets/base",
            "overflow": null,
            "_model_module_version": "1.2.0",
            "_view_count": null,
            "flex_flow": null,
            "width": null,
            "min_width": null,
            "border": null,
            "align_items": null,
            "bottom": null,
            "_model_module": "@jupyter-widgets/base",
            "top": null,
            "grid_column": null,
            "overflow_y": null,
            "overflow_x": null,
            "grid_auto_flow": null,
            "grid_area": null,
            "grid_template_columns": null,
            "flex": null,
            "_model_name": "LayoutModel",
            "justify_items": null,
            "grid_row": null,
            "max_height": null,
            "align_content": null,
            "visibility": null,
            "align_self": null,
            "height": null,
            "min_height": null,
            "padding": null,
            "grid_auto_rows": null,
            "grid_gap": null,
            "max_width": null,
            "order": null,
            "_view_module_version": "1.2.0",
            "grid_template_areas": null,
            "object_position": null,
            "object_fit": null,
            "grid_auto_columns": null,
            "margin": null,
            "display": null,
            "left": null
          }
        },
        "a88d51eb811540089f96bfbc10d04bf8": {
          "model_module": "@jupyter-widgets/controls",
          "model_name": "FloatProgressModel",
          "state": {
            "_view_name": "ProgressView",
            "style": "IPY_MODEL_8d595f61e84b440b97df5e261c50d75e",
            "_dom_classes": [],
            "description": "100%",
            "_model_name": "FloatProgressModel",
            "bar_style": "success",
            "max": 408146277,
            "_view_module": "@jupyter-widgets/controls",
            "_model_module_version": "1.5.0",
            "value": 408146277,
            "_view_count": null,
            "_view_module_version": "1.5.0",
            "orientation": "horizontal",
            "min": 0,
            "description_tooltip": null,
            "_model_module": "@jupyter-widgets/controls",
            "layout": "IPY_MODEL_3906fadaf29b4703845c03a58c9ab86d"
          }
        },
        "df0ec4dad3904437a519808e6a6db238": {
          "model_module": "@jupyter-widgets/controls",
          "model_name": "HTMLModel",
          "state": {
            "_view_name": "HTMLView",
            "style": "IPY_MODEL_e06cc6e51d0349bba728d1b629c5a1d6",
            "_dom_classes": [],
            "description": "",
            "_model_name": "HTMLModel",
            "placeholder": "​",
            "_view_module": "@jupyter-widgets/controls",
            "_model_module_version": "1.5.0",
            "value": " 408M/408M [00:52&lt;00:00, 7.77MB/s]",
            "_view_count": null,
            "_view_module_version": "1.5.0",
            "description_tooltip": null,
            "_model_module": "@jupyter-widgets/controls",
            "layout": "IPY_MODEL_9e8dd9bf9750496d853b1e4c4be05084"
          }
        },
        "8d595f61e84b440b97df5e261c50d75e": {
          "model_module": "@jupyter-widgets/controls",
          "model_name": "ProgressStyleModel",
          "state": {
            "_view_name": "StyleView",
            "_model_name": "ProgressStyleModel",
            "description_width": "initial",
            "_view_module": "@jupyter-widgets/base",
            "_model_module_version": "1.5.0",
            "_view_count": null,
            "_view_module_version": "1.2.0",
            "bar_color": null,
            "_model_module": "@jupyter-widgets/controls"
          }
        },
        "3906fadaf29b4703845c03a58c9ab86d": {
          "model_module": "@jupyter-widgets/base",
          "model_name": "LayoutModel",
          "state": {
            "_view_name": "LayoutView",
            "grid_template_rows": null,
            "right": null,
            "justify_content": null,
            "_view_module": "@jupyter-widgets/base",
            "overflow": null,
            "_model_module_version": "1.2.0",
            "_view_count": null,
            "flex_flow": null,
            "width": null,
            "min_width": null,
            "border": null,
            "align_items": null,
            "bottom": null,
            "_model_module": "@jupyter-widgets/base",
            "top": null,
            "grid_column": null,
            "overflow_y": null,
            "overflow_x": null,
            "grid_auto_flow": null,
            "grid_area": null,
            "grid_template_columns": null,
            "flex": null,
            "_model_name": "LayoutModel",
            "justify_items": null,
            "grid_row": null,
            "max_height": null,
            "align_content": null,
            "visibility": null,
            "align_self": null,
            "height": null,
            "min_height": null,
            "padding": null,
            "grid_auto_rows": null,
            "grid_gap": null,
            "max_width": null,
            "order": null,
            "_view_module_version": "1.2.0",
            "grid_template_areas": null,
            "object_position": null,
            "object_fit": null,
            "grid_auto_columns": null,
            "margin": null,
            "display": null,
            "left": null
          }
        },
        "e06cc6e51d0349bba728d1b629c5a1d6": {
          "model_module": "@jupyter-widgets/controls",
          "model_name": "DescriptionStyleModel",
          "state": {
            "_view_name": "StyleView",
            "_model_name": "DescriptionStyleModel",
            "description_width": "",
            "_view_module": "@jupyter-widgets/base",
            "_model_module_version": "1.5.0",
            "_view_count": null,
            "_view_module_version": "1.2.0",
            "_model_module": "@jupyter-widgets/controls"
          }
        },
        "9e8dd9bf9750496d853b1e4c4be05084": {
          "model_module": "@jupyter-widgets/base",
          "model_name": "LayoutModel",
          "state": {
            "_view_name": "LayoutView",
            "grid_template_rows": null,
            "right": null,
            "justify_content": null,
            "_view_module": "@jupyter-widgets/base",
            "overflow": null,
            "_model_module_version": "1.2.0",
            "_view_count": null,
            "flex_flow": null,
            "width": null,
            "min_width": null,
            "border": null,
            "align_items": null,
            "bottom": null,
            "_model_module": "@jupyter-widgets/base",
            "top": null,
            "grid_column": null,
            "overflow_y": null,
            "overflow_x": null,
            "grid_auto_flow": null,
            "grid_area": null,
            "grid_template_columns": null,
            "flex": null,
            "_model_name": "LayoutModel",
            "justify_items": null,
            "grid_row": null,
            "max_height": null,
            "align_content": null,
            "visibility": null,
            "align_self": null,
            "height": null,
            "min_height": null,
            "padding": null,
            "grid_auto_rows": null,
            "grid_gap": null,
            "max_width": null,
            "order": null,
            "_view_module_version": "1.2.0",
            "grid_template_areas": null,
            "object_position": null,
            "object_fit": null,
            "grid_auto_columns": null,
            "margin": null,
            "display": null,
            "left": null
          }
        }
      }
    }
  },
  "cells": [
    {
      "cell_type": "code",
      "metadata": {
        "id": "C3eu9ptwuQ6u"
      },
      "source": [
        "!pip install sentence-transformers"
      ],
      "execution_count": null,
      "outputs": []
    },
    {
      "cell_type": "code",
      "metadata": {
        "id": "SmlsS3NJQ4k2"
      },
      "source": [
        "import spacy \n",
        "nlp = spacy.load('en_core_web_sm') "
      ],
      "execution_count": null,
      "outputs": []
    },
    {
      "cell_type": "code",
      "metadata": {
        "id": "7BEAvl3kub-D"
      },
      "source": [
        "import pandas as pd\n",
        "from google.colab import files\n",
        "uploaded = files.upload()"
      ],
      "execution_count": null,
      "outputs": []
    },
    {
      "cell_type": "code",
      "metadata": {
        "id": "EAU-Prm-unnf"
      },
      "source": [
        "import json\n",
        "import os\n",
        "from sentence_transformers import SentenceTransformer, util\n",
        "\n"
      ],
      "execution_count": null,
      "outputs": []
    },
    {
      "cell_type": "code",
      "metadata": {
        "colab": {
          "base_uri": "https://localhost:8080/",
          "height": 119,
          "referenced_widgets": [
            "550dd2b46c1b4e2a906cdfff5aab1805",
            "257dc503a85e41e698fbed77cf20a563",
            "a88d51eb811540089f96bfbc10d04bf8",
            "df0ec4dad3904437a519808e6a6db238",
            "8d595f61e84b440b97df5e261c50d75e",
            "3906fadaf29b4703845c03a58c9ab86d",
            "e06cc6e51d0349bba728d1b629c5a1d6",
            "9e8dd9bf9750496d853b1e4c4be05084"
          ]
        },
        "id": "qD_GkpyiuiYM",
        "outputId": "e84802c7-78b3-457e-9b97-f101b5708e42"
      },
      "source": [
        "df = pd.read_csv('ccc-organizations-2011_1.csv')\n",
        "\n",
        "papers = df.Description.values\n",
        "\n",
        "print(len(papers), \"Charities\")\n",
        "\n",
        "entity =[]\n",
        "def get_entity(text):\n",
        "    name_org = []\n",
        "    doc = nlp(text) \n",
        "    for ent in doc.ents:\n",
        "        name_org.append(str(ent.text) + \" \" + str(ent.label_))\n",
        "    return name_org\n",
        "\n",
        "for i in range(len(papers)):\n",
        "    entity.append(get_entity(papers[i]))\n",
        "\n",
        "print(entity)\n",
        "#We then load the allenai-specter model with SentenceTransformers\n",
        "model = SentenceTransformer('allenai-specter')\n",
        "\n",
        "#To encode the descriptions to a single string\n",
        "paper_texts = [paper for paper in papers]\n",
        "\n",
        "#Compute embeddings for all descriptions\n",
        "corpus_embeddings = model.encode(paper_texts, convert_to_tensor=True)\n"
      ],
      "execution_count": null,
      "outputs": [
        {
          "output_type": "stream",
          "text": [
            "318 Charities\n",
            "[[], ['Maryland GPE'], [], [], ['Gwynns Falls Elementary School ORG'], ['Justice Policy Institute ORG'], [], [], ['RIF ORG'], ['Paul Newman PERSON'], ['ALS ORG', \"Lou Gehrig's PERSON\"], ['Baltimore City GPE'], [], [], ['The International Rescue Committee ORG'], [], [], [], ['the Chesapeake Bay LOC'], ['Assists NORP', 'Maryland GPE'], [], ['Christmas DATE'], ['Maryland GPE'], [], [], [], [], ['five CARDINAL', 'Carroll County GPE'], [], [], ['Baltimore GPE', 'CCC ORG', '100% PERCENT'], ['American NORP'], ['1864 DATE'], ['Maryland GPE'], [], [], ['Maryland GPE'], ['Maryland GPE'], ['Anne Arundel County GPE'], ['Annual DATE', 'Give a Child a Christmas WORK_OF_ART'], ['KIPP Baltimore PERSON', 'Baltimore City GPE', 'four year DATE'], ['N-12 CARDINAL'], ['Kennedy Krieger institute ORG'], [], [], ['Jubilee Baltimore PERSON', 'Baltimore GPE', 'Jubilee PERSON', 'Baltimore GPE'], ['One CARDINAL', 'America GPE', 'the United States GPE', '1979 DATE'], [], [], ['Baltimore GPE'], [], ['Aquarium ORG'], ['the Baltimore City College ORG', 'Baltimore GPE', 'Maryland GPE', '1866 DATE'], ['Maryland GPE'], ['Maryland GPE'], [], ['97% PERCENT'], [], [], ['100% PERCENT'], [], ['America GPE'], ['Howard Community College ORG'], ['Joseph Richey House PERSON', 'Maryland GPE', 'Medicare ORG'], ['1200 CARDINAL'], ['Anne Arundel County GPE'], ['today DATE', 'America GPE', 'tomorrow DATE'], [], [], [], ['The Reeve Foundation ORG'], [], [], [], ['30,000 CARDINAL', 'annually DATE'], [], [], ['Baltimore City GPE'], [], ['thousands CARDINAL', 'yearly DATE'], [], ['Assists NORP', 'Maryland GPE'], [], [], ['Baltimore City GPE', 'Cylburn Arboretum PERSON'], ['Maryland GPE', '80 CARDINAL', 'Our Daily Bread ORG', 'Christopher Place PERSON', 'Sarah PERSON', 'House ORG', \"St. Vincent's GPE\", 'Anna ORG', 'House ORG', 'Villa Maria PERSON'], [], ['MG GPE'], [], [], ['Age 18 DATE', 'OFA ORG'], ['Baltimore GPE'], [], ['the Maryland Academy of Technology & Health Sciences ORG', '6th-12th CARDINAL', 'Baltimore City GPE'], ['19 years old DATE'], ['Marylanders ORG'], [], [], [], [], ['Maryland GPE'], ['500 CARDINAL', 'daily DATE', '9 CARDINAL'], [], ['Catholic NORP', 'Baltimore GPE', 'Glen Burnie PERSON', 'Hagerstown GPE'], [], ['ESOL ORG'], [], [], [], ['Maryland GPE'], [], [], ['Baltimore City GPE', 'summer DATE'], [], [], ['Diakon KidzStuff ORG', \"Diakon Kathryn's ORG\"], ['earth LOC'], [], ['Medicaid ORG', 'Baltimore City GPE'], ['Maryland GPE'], [], [], ['over 5,500 CARDINAL', 'annually DATE'], ['GED ORG'], ['BLSYW ORG', '6-12 DATE', 'Baltimore City GPE'], ['Medicare ORG', 'Medicaid ORG'], [], ['Baltimore City GPE'], ['Baltimore GPE'], ['Baltimore GPE'], [], ['4-11 CARDINAL'], ['Over 119 million acres QUANTITY', '5000 miles QUANTITY'], ['America GPE', 'Baja GPE', 'Canada GPE', 'California GPE'], [], ['the Baltimore Regional Burn Center ORG'], ['Assists American NORP', 'Indian NORP'], [], [], ['National Breast Cancer Coalition ORG', '2020 DATE'], ['thousands of miles QUANTITY'], ['daily DATE'], ['1979 DATE'], [], [], ['the Empowerment Academy Public Charter School ORG'], ['the City of Baltimore GPE', '5 CARDINAL'], ['Maryland GPE'], [], [], [], ['approximately 100,000 CARDINAL', 'annually DATE'], [], ['Baltimore GPE'], ['the Baltimore School for the Arts ORG'], [\"Protects America's ORG\"], ['5-17 DATE'], [], [], ['monthly DATE', 'Baltimore GPE'], ['America GPE'], ['first ORDINAL'], ['Maryland GPE'], ['Baltimore GPE', '4 months - pre-K DATE', 'full-day DATE', 'year-round DATE'], ['the Baltimore Metropolitan Area FAC'], [], ['Baltimore GPE', '18 CARDINAL', 'Maryland GPE', 'medical day DATE'], ['Baltimore City GPE'], [\"Garden Village Community Association's ORG\"], ['Volunteers of America Chesapeake ORG'], ['Baltimore GPE'], ['Catholic NORP', 'Baltimore City GPE', 'summer DATE'], [], ['5-17 CARDINAL'], ['FARM ORG', 'un ORG', 'the United States GPE'], [], [], [], [], ['IMAX ORG', 'Maryland GPE'], ['Baltimore City/County GPE'], [], [], ['Howard County GPE'], [], ['year DATE'], [], ['Thanksgiving DATE', 'Christmas DATE'], ['Baltimore GPE'], [], ['Catholic NORP', 'Baltimore GPE'], ['GED ORG', 'Holiday Basket Program ORG'], ['Baltimore City GPE'], ['Morgan ORG'], ['6 CARDINAL'], ['2 CARDINAL', 'Maryland GPE'], ['Baltimore GPE'], ['Baltimore GPE'], ['the 21st century DATE'], [], ['one CARDINAL', 'one CARDINAL'], [], [], ['Assists NORP'], ['Pratt PERSON', '21 CARDINAL', 'Baltimore GPE'], ['Two CARDINAL', 'weekday DATE'], [], ['Catholic NORP', 'the School Sisters ORG'], [], ['over 35 years DATE'], ['Jesus Christ PERSON', 'more than 55 years DATE'], ['Sickle Cell Disease PERSON', 'SCDAA ORG'], ['5,000 CARDINAL', '6,000 CARDINAL', 'Baltimore City GPE', '14 CARDINAL', 'summer months DATE'], [], ['over 150 CARDINAL', 'African American NORP', 'Africa LOC'], [], [], [], ['Assists NORP', 'vegetarian GPE', 'Publishes Vegetarian Journal ORG', 'Unna Diet Vegetarian PERSON', 'Nutrition for Teenagers WORK_OF_ART'], [], [], ['daily DATE'], ['Catholic NORP'], ['Coppin ORG'], [], ['14-21 DATE'], ['Earl PERSON'], ['four CARDINAL', 'Baltimore City GPE', 'annual DATE', 'summer DATE'], [], ['Jane PERSON', 'House of Inspiration ORG'], [], ['Baltimore GPE'], [], [], ['the University of Baltimore ORG'], ['Head Start ORG'], [], [], [], [], [], ['over 25 million CARDINAL'], ['Baltimore GPE', 'Washington GPE'], ['Baltimore GPE'], ['Preserves USS Constellation PRODUCT', 'Baltimore city GPE'], ['the Police Department ORG'], [\"Tuttle's Place PERSON\", '8-18 DATE', 'Baltimore GPE', 'Maryland GPE', '42 CARDINAL'], [], [], [], ['one CARDINAL', 'Northeast Baltimore LOC'], ['City Springs School ORG', 'Collington Square School ORG', 'Rayner Browne Academy PERSON', 'Hampstead Hill Academy ORG', 'Wolfe Street Academy ORG'], [], [], [], ['Christian NORP'], [], ['the Sisters of Mercy ORG', 'Baltimore City GPE'], [], [], [], [], ['hundreds of thousands CARDINAL', '200 CARDINAL', 'Maryland GPE'], ['The Jewish Museum of Maryland ORG', 'American NORP', 'Jewish NORP', 'Jewish NORP', 'American NORP'], ['Baltimore GPE'], [], [], ['Personalizes GPE', 'Baltimore City GPE', 'Baltimore County GPE'], [], ['Baltimore GPE'], ['Researches ORG'], ['Baltimore Child Abuse Center ORG', 'Baltimore GPE'], [], ['Catholic NORP'], ['two CARDINAL', 'Baltimore City GPE', 'day DATE', 'Saturday DATE'], [], [], [], ['Patterson Park PERSON'], ['Agency ORG'], ['Baltimore GPE'], ['Maryland GPE'], [], ['24 hour TIME'], [], ['10 CARDINAL'], [], [], [], [], ['Maryland GPE'], ['GED ORG'], ['One CARDINAL', 'one CARDINAL'], ['WHSAA Inc. ORG', 'Alumnae ORG', '2)Scholarship- CARDINAL', '12th ORDINAL'], ['the Chesapeake Bay LOC'], ['Baltimore City GPE', 'Anne Arundel County GPE'], [], [], [], [], ['monthly DATE'], ['20 CARDINAL', 'B.E.S.T. ORG', 'African American NORP'], ['6-21 CARDINAL'], [], [], ['Jewish NORP', 'Jewish NORP'], [], [], ['Maryland GPE'], [], [], ['Baltimore City GPE'], [], [], ['13 CARDINAL'], [], ['Baltimore City GPE'], ['Randallstown GPE', 'Maryland GPE', '12 CARDINAL', 'Centers of Excellence ORG']]\n"
          ],
          "name": "stdout"
        },
        {
          "output_type": "display_data",
          "data": {
            "application/vnd.jupyter.widget-view+json": {
              "model_id": "550dd2b46c1b4e2a906cdfff5aab1805",
              "version_minor": 0,
              "version_major": 2
            },
            "text/plain": [
              "HBox(children=(FloatProgress(value=0.0, max=408146277.0), HTML(value='')))"
            ]
          },
          "metadata": {
            "tags": []
          }
        },
        {
          "output_type": "stream",
          "text": [
            "\n"
          ],
          "name": "stdout"
        }
      ]
    },
    {
      "cell_type": "code",
      "metadata": {
        "id": "7o1PlBCfWIEX"
      },
      "source": [
        "res = [ele for ele in entity if ele != []]\n",
        "\n",
        "def flatten_list(_2d_list):\n",
        "    flat_list = []\n",
        "    # Iterate through the outer list\n",
        "    for element in _2d_list:\n",
        "        if type(element) is list:\n",
        "            # If the element is of type list, iterate through the sublist\n",
        "            for item in element:\n",
        "                flat_list.append(item)\n",
        "        # else:\n",
        "        #     flat_list.append(element)\n",
        "    return flat_list\n",
        "\n",
        "all_entities = flatten_list(res)"
      ],
      "execution_count": 18,
      "outputs": []
    },
    {
      "cell_type": "code",
      "metadata": {
        "id": "k3t--LIiWOIN"
      },
      "source": [
        "all_entities"
      ],
      "execution_count": null,
      "outputs": []
    },
    {
      "cell_type": "code",
      "metadata": {
        "id": "f66xGWtfWd6j"
      },
      "source": [
        "\n",
        "substring = \"GPE\"\n",
        "\n",
        "named_org = [string for string in all_entities if substring in string]\n",
        "\n",
        "named_org"
      ],
      "execution_count": null,
      "outputs": []
    },
    {
      "cell_type": "code",
      "metadata": {
        "colab": {
          "base_uri": "https://localhost:8080/"
        },
        "id": "JiTomzK5YCN-",
        "outputId": "9df8e2ac-dad6-46b8-84c0-cbd9533c2ea6"
      },
      "source": [
        "from collections import Counter\n",
        "\n",
        "Counter = Counter(named_org)\n",
        "most_occuring = Counter.most_common()\n",
        "  \n",
        "print(most_occur)"
      ],
      "execution_count": 24,
      "outputs": [
        {
          "output_type": "stream",
          "text": [
            "[('Baltimore GPE', 27), ('Maryland GPE', 26), ('Baltimore City GPE', 20), ('Catholic NORP', 6), ('America GPE', 5), ('Assists NORP', 4), ('one CARDINAL', 4), ('Jewish NORP', 4), ('American NORP', 3), ('Anne Arundel County GPE', 3)]\n"
          ],
          "name": "stdout"
        }
      ]
    },
    {
      "cell_type": "code",
      "metadata": {
        "colab": {
          "base_uri": "https://localhost:8080/"
        },
        "id": "bLN1xQCjvVaH",
        "outputId": "c176bb61-3560-4404-fdb4-ef1d7bf06011"
      },
      "source": [
        "from termcolor import colored\n",
        "\n",
        "charities = []\n",
        "def search_papers(title):\n",
        "   query_embedding = model.encode(title+'[SEP]', convert_to_tensor=True) # Converts to tensor\n",
        "   search_hits = util.semantic_search(query_embedding, corpus_embeddings)\n",
        "   search_hits = search_hits[0]\n",
        "   count = 0\n",
        "   top_header = \"Top 10 charities related\"\n",
        "   print(colored(top_header,'blue'))\n",
        "   for hit in search_hits:\n",
        "         related_paper = papers[hit['corpus_id']]\n",
        "         count += 1\n",
        "         print(str(count)+ \")\" + \" Description of charity : \" +related_paper)\n",
        "         print(\"similiarity score of \" + str(format(search_hits[count-1]['score'],\".2f\")))\n",
        "         subsetDataFrame = df[df['Description'] == related_paper]\n",
        "         k=subsetDataFrame.values\n",
        "         a_string = \"Name of Organization\"\n",
        "         print(\"\\033[1m\" + a_string + \"\\033[0m\")\n",
        "         print(colored(str(k[0][1]), 'red'))\n",
        "         print(\" located in \" + str(k[0][7] + \" , Telephone : \" + str(k[0][3])))\n",
        "         print( \"Street address: \" + str(k[0][9])+ \"\\n\")\n",
        "         \n",
        "#search_papers(title=input(str()))\n",
        "\n",
        "search_papers(\"eyes\")"
      ],
      "execution_count": null,
      "outputs": [
        {
          "output_type": "stream",
          "text": [
            "\u001b[34mTop 10 charities related\u001b[0m\n",
            "1) Description of charity : Provides human eye tissue for sight restoring corneal transplant surgery. Directly supports research into causes of blindness.\n",
            "similiarity score of 0.73\n",
            "\u001b[1mName of Organization\u001b[0m\n",
            "\u001b[31mTissue Banks International\u001b[0m\n",
            " located in Baltimore , Telephone : 410-783-0183\n",
            "Street address: 815 Park Avenue\r\n",
            "Baltimore, MD 21201\r\n",
            "(39.29897226908366, -76.61848419245842)\n",
            "\n",
            "2) Description of charity : Enables 30,000 Marylanders annually to avoid needless blindness from eye disease and injury through eye screenings, eye examinations and consumer eye health and safety information.\n",
            "similiarity score of 0.72\n",
            "\u001b[1mName of Organization\u001b[0m\n",
            "\u001b[31mMaryland Society for Sight, Inc.\u001b[0m\n",
            " located in Baltimore , Telephone : 410-889-2505\n",
            "Street address: 1313 Old Cold Spring Lane\r\n",
            "Baltimore, MD 21209\r\n",
            "(39.34349770275429, -76.64182159911877)\n",
            "\n",
            "3) Description of charity : Researches to discover treatments and cures for retinal diseases that cause blindness such as retinitis pigmentosa, macular degeneration and other related diseases.\n",
            "similiarity score of 0.70\n",
            "\u001b[1mName of Organization\u001b[0m\n",
            "\u001b[31mFoundation Fighting Blindness\u001b[0m\n",
            " located in Owings Mills , Telephone : 410-363-2393\n",
            "Street address: 11435 Cronhill Drive\r\n",
            "Owings Mills, MD 21117\r\n",
            "(39.43920563971957, -76.77389333484182)\n",
            "\n",
            "4) Description of charity : Broadcasts reading of daily newspapers/magazines on a special closed-circuit radio sent to listeners. Operates 24/7, serving visually and physically handicapped people.\n",
            "similiarity score of 0.65\n",
            "\u001b[1mName of Organization\u001b[0m\n",
            "\u001b[31mRadio Reading Network of Maryland\u001b[0m\n",
            " located in Baltimore , Telephone : 410-462-8553\n",
            "Street address: 3501 Taylor Avenue\r\n",
            "Baltimore, MD 21236\r\n",
            "(39.36495552637342, -76.53318349797934)\n",
            "\n",
            "5) Description of charity : Dedicated to the study and treatment of dyslexia through information and referral services, research, and advocacy.\n",
            "similiarity score of 0.65\n",
            "\u001b[1mName of Organization\u001b[0m\n",
            "\u001b[31mInternational Dyslexia Association, Inc. (The)\u001b[0m\n",
            " located in Towson , Telephone : 410-321-5069\n",
            "Street address: 40 York Road\r\n",
            "Towson, MD 21204\r\n",
            "(39.39591019062192, -76.60360940609382)\n",
            "\n",
            "6) Description of charity : Programs include mentoring, education (tutorial, college access services, scholarships), health and wellness (disparities education, prostate/bone marrow, eye exams) and economic development (financial literacy).Programs include mentoring, education (tutorial, college access services, scholarships), health and wellness (disparities education, prostate/bone marrow, eye exams) and economic development (financial literacy).Programs include mentoring, education (tutorial, college access services, scholarships), health and wellness (disparities education, prostate/bone marrow, eye exams) and economic development (financial literacy).Programs include mentoring, education (tutorial, college access services, scholarships), health and wellness (disparities education, prostate/bone marrow, eye exams) and economic development (financial literacy).Programs include mentoring, education (tutorial, college access services, scholarships), health and wellness (disparities education, prostate/bone marrow, eye exams) and economic development (financial literacy).\n",
            "similiarity score of 0.65\n",
            "\u001b[1mName of Organization\u001b[0m\n",
            "\u001b[31m100 Black Men of Maryland, Inc.\u001b[0m\n",
            " located in Gwynn Oak , Telephone : 410-664-4842\n",
            "Street address: 4413 Liberty Heights Avenue\r\n",
            "Gwynn Oak, MD 21207\r\n",
            "(39.330403574007676, -76.6926692666554)\n",
            "\n",
            "7) Description of charity : RIF provides free books for children nationwide and engages children, parents, and communities in reading and motivational activities to encourage a lifelong love of reading.\n",
            "similiarity score of 0.65\n",
            "\u001b[1mName of Organization\u001b[0m\n",
            "\u001b[31mReading Is Fundamental\u001b[0m\n",
            " located in Washington , Telephone : 202-536-3515\n",
            "Street address: nan\n",
            "\n",
            "8) Description of charity : Provides training and technical assistance while recruiting and supervising volunteers paired to children who benefit academically, socially, and emotionally from a positive adult role model.\n",
            "similiarity score of 0.64\n",
            "\u001b[1mName of Organization\u001b[0m\n",
            "\u001b[31mBig Brothers Big Sisters of Central Maryland and the Maryland Mentoring Resource Center, Inc.\u001b[0m\n",
            " located in Baltimore , Telephone : 410-889-2239\n",
            "Street address: 3600 Clipper Mill Road\r\n",
            "Baltimore, MD 21211\r\n",
            "(39.33064681744272, -76.64124936705286)\n",
            "\n",
            "9) Description of charity : Provides evaluation and treatment for children and adults with communication disorders, speech-language pathology, audiology, special education, social work, sign language, interpreters and related services.\n",
            "similiarity score of 0.64\n",
            "\u001b[1mName of Organization\u001b[0m\n",
            "\u001b[31mHearing and Speech Agency of Metropolitan Baltimore, Inc. (The)\u001b[0m\n",
            " located in Baltimore , Telephone : 410-318-6759\n",
            "Street address: 5900 Metro Drive\r\n",
            "Baltimore, MD 21215\r\n",
            "(39.345629095963716, -76.70749009369825)\n",
            "\n",
            "10) Description of charity : Engages a diverse audience of approximately 100,000 annually, featuring professional theatrical productions, enhanced by artistic educational and community programming.\n",
            "similiarity score of 0.64\n",
            "\u001b[1mName of Organization\u001b[0m\n",
            "\u001b[31mCenter Stage Associates, Inc.\u001b[0m\n",
            " located in Baltimore , Telephone : 410-539-3912\n",
            "Street address: 700 Calvert Street\r\n",
            "Baltimore, MD 21202\r\n",
            "(39.298018987732576, -76.61292638231737)\n",
            "\n"
          ],
          "name": "stdout"
        }
      ]
    }
  ]
}