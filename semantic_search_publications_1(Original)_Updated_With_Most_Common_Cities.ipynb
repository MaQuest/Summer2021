{
  "nbformat": 4,
  "nbformat_minor": 0,
  "metadata": {
    "colab": {
      "name": "semantic_search_publications-1(Original)-Updated_With_Most_Common_Cities.ipynb",
      "provenance": [],
      "collapsed_sections": [],
      "mount_file_id": "1EMxw4tiyZD83-pllOl_5j9GY9eRq_06G",
      "authorship_tag": "ABX9TyOyu5KydmrUuQzAj9T7Rlaq",
      "include_colab_link": true
    },
    "kernelspec": {
      "name": "python3",
      "display_name": "Python 3"
    },
    "language_info": {
      "name": "python"
    },
    "widgets": {
      "application/vnd.jupyter.widget-state+json": {
        "98b3a57813664784b6f83e55abbf747f": {
          "model_module": "@jupyter-widgets/controls",
          "model_name": "HBoxModel",
          "state": {
            "_view_name": "HBoxView",
            "_dom_classes": [],
            "_model_name": "HBoxModel",
            "_view_module": "@jupyter-widgets/controls",
            "_model_module_version": "1.5.0",
            "_view_count": null,
            "_view_module_version": "1.5.0",
            "box_style": "",
            "layout": "IPY_MODEL_ab41bdcc29e741ceb87754954403d3f7",
            "_model_module": "@jupyter-widgets/controls",
            "children": [
              "IPY_MODEL_32c2db74c7904b7f9a365ce27ad8b886",
              "IPY_MODEL_f14a564e402048c2bc575ed1e26a43b9"
            ]
          }
        },
        "ab41bdcc29e741ceb87754954403d3f7": {
          "model_module": "@jupyter-widgets/base",
          "model_name": "LayoutModel",
          "state": {
            "_view_name": "LayoutView",
            "grid_template_rows": null,
            "right": null,
            "justify_content": null,
            "_view_module": "@jupyter-widgets/base",
            "overflow": null,
            "_model_module_version": "1.2.0",
            "_view_count": null,
            "flex_flow": null,
            "width": null,
            "min_width": null,
            "border": null,
            "align_items": null,
            "bottom": null,
            "_model_module": "@jupyter-widgets/base",
            "top": null,
            "grid_column": null,
            "overflow_y": null,
            "overflow_x": null,
            "grid_auto_flow": null,
            "grid_area": null,
            "grid_template_columns": null,
            "flex": null,
            "_model_name": "LayoutModel",
            "justify_items": null,
            "grid_row": null,
            "max_height": null,
            "align_content": null,
            "visibility": null,
            "align_self": null,
            "height": null,
            "min_height": null,
            "padding": null,
            "grid_auto_rows": null,
            "grid_gap": null,
            "max_width": null,
            "order": null,
            "_view_module_version": "1.2.0",
            "grid_template_areas": null,
            "object_position": null,
            "object_fit": null,
            "grid_auto_columns": null,
            "margin": null,
            "display": null,
            "left": null
          }
        },
        "32c2db74c7904b7f9a365ce27ad8b886": {
          "model_module": "@jupyter-widgets/controls",
          "model_name": "FloatProgressModel",
          "state": {
            "_view_name": "ProgressView",
            "style": "IPY_MODEL_0f99d3cc41db49f59e8969fca612d07a",
            "_dom_classes": [],
            "description": "100%",
            "_model_name": "FloatProgressModel",
            "bar_style": "success",
            "max": 408146277,
            "_view_module": "@jupyter-widgets/controls",
            "_model_module_version": "1.5.0",
            "value": 408146277,
            "_view_count": null,
            "_view_module_version": "1.5.0",
            "orientation": "horizontal",
            "min": 0,
            "description_tooltip": null,
            "_model_module": "@jupyter-widgets/controls",
            "layout": "IPY_MODEL_405e49063351429cb63a4a498ec52454"
          }
        },
        "f14a564e402048c2bc575ed1e26a43b9": {
          "model_module": "@jupyter-widgets/controls",
          "model_name": "HTMLModel",
          "state": {
            "_view_name": "HTMLView",
            "style": "IPY_MODEL_7035f57ff1074083b30a95b115f0bb18",
            "_dom_classes": [],
            "description": "",
            "_model_name": "HTMLModel",
            "placeholder": "​",
            "_view_module": "@jupyter-widgets/controls",
            "_model_module_version": "1.5.0",
            "value": " 408M/408M [00:24&lt;00:00, 16.5MB/s]",
            "_view_count": null,
            "_view_module_version": "1.5.0",
            "description_tooltip": null,
            "_model_module": "@jupyter-widgets/controls",
            "layout": "IPY_MODEL_2cdc2549e9c543fa91ae59a51419dd7b"
          }
        },
        "0f99d3cc41db49f59e8969fca612d07a": {
          "model_module": "@jupyter-widgets/controls",
          "model_name": "ProgressStyleModel",
          "state": {
            "_view_name": "StyleView",
            "_model_name": "ProgressStyleModel",
            "description_width": "initial",
            "_view_module": "@jupyter-widgets/base",
            "_model_module_version": "1.5.0",
            "_view_count": null,
            "_view_module_version": "1.2.0",
            "bar_color": null,
            "_model_module": "@jupyter-widgets/controls"
          }
        },
        "405e49063351429cb63a4a498ec52454": {
          "model_module": "@jupyter-widgets/base",
          "model_name": "LayoutModel",
          "state": {
            "_view_name": "LayoutView",
            "grid_template_rows": null,
            "right": null,
            "justify_content": null,
            "_view_module": "@jupyter-widgets/base",
            "overflow": null,
            "_model_module_version": "1.2.0",
            "_view_count": null,
            "flex_flow": null,
            "width": null,
            "min_width": null,
            "border": null,
            "align_items": null,
            "bottom": null,
            "_model_module": "@jupyter-widgets/base",
            "top": null,
            "grid_column": null,
            "overflow_y": null,
            "overflow_x": null,
            "grid_auto_flow": null,
            "grid_area": null,
            "grid_template_columns": null,
            "flex": null,
            "_model_name": "LayoutModel",
            "justify_items": null,
            "grid_row": null,
            "max_height": null,
            "align_content": null,
            "visibility": null,
            "align_self": null,
            "height": null,
            "min_height": null,
            "padding": null,
            "grid_auto_rows": null,
            "grid_gap": null,
            "max_width": null,
            "order": null,
            "_view_module_version": "1.2.0",
            "grid_template_areas": null,
            "object_position": null,
            "object_fit": null,
            "grid_auto_columns": null,
            "margin": null,
            "display": null,
            "left": null
          }
        },
        "7035f57ff1074083b30a95b115f0bb18": {
          "model_module": "@jupyter-widgets/controls",
          "model_name": "DescriptionStyleModel",
          "state": {
            "_view_name": "StyleView",
            "_model_name": "DescriptionStyleModel",
            "description_width": "",
            "_view_module": "@jupyter-widgets/base",
            "_model_module_version": "1.5.0",
            "_view_count": null,
            "_view_module_version": "1.2.0",
            "_model_module": "@jupyter-widgets/controls"
          }
        },
        "2cdc2549e9c543fa91ae59a51419dd7b": {
          "model_module": "@jupyter-widgets/base",
          "model_name": "LayoutModel",
          "state": {
            "_view_name": "LayoutView",
            "grid_template_rows": null,
            "right": null,
            "justify_content": null,
            "_view_module": "@jupyter-widgets/base",
            "overflow": null,
            "_model_module_version": "1.2.0",
            "_view_count": null,
            "flex_flow": null,
            "width": null,
            "min_width": null,
            "border": null,
            "align_items": null,
            "bottom": null,
            "_model_module": "@jupyter-widgets/base",
            "top": null,
            "grid_column": null,
            "overflow_y": null,
            "overflow_x": null,
            "grid_auto_flow": null,
            "grid_area": null,
            "grid_template_columns": null,
            "flex": null,
            "_model_name": "LayoutModel",
            "justify_items": null,
            "grid_row": null,
            "max_height": null,
            "align_content": null,
            "visibility": null,
            "align_self": null,
            "height": null,
            "min_height": null,
            "padding": null,
            "grid_auto_rows": null,
            "grid_gap": null,
            "max_width": null,
            "order": null,
            "_view_module_version": "1.2.0",
            "grid_template_areas": null,
            "object_position": null,
            "object_fit": null,
            "grid_auto_columns": null,
            "margin": null,
            "display": null,
            "left": null
          }
        }
      }
    },
    "accelerator": "GPU"
  },
  "cells": [
    {
      "cell_type": "markdown",
      "metadata": {
        "id": "view-in-github",
        "colab_type": "text"
      },
      "source": [
        "<a href=\"https://colab.research.google.com/github/MaQuest/Summer2021/blob/main/semantic_search_publications_1(Original)_Updated_With_Most_Common_Cities.ipynb\" target=\"_parent\"><img src=\"https://colab.research.google.com/assets/colab-badge.svg\" alt=\"Open In Colab\"/></a>"
      ]
    },
    {
      "cell_type": "code",
      "metadata": {
        "id": "C3eu9ptwuQ6u"
      },
      "source": [
        "!pip install sentence-transformers"
      ],
      "execution_count": null,
      "outputs": []
    },
    {
      "cell_type": "code",
      "metadata": {
        "id": "LcB9x1hrpsLv",
        "colab": {
          "base_uri": "https://localhost:8080/"
        },
        "outputId": "f6354017-0687-4201-e2e6-45873933c2a9"
      },
      "source": [
        "pip install torchvision"
      ],
      "execution_count": 2,
      "outputs": [
        {
          "output_type": "stream",
          "text": [
            "Requirement already satisfied: torchvision in /usr/local/lib/python3.7/dist-packages (0.9.1+cu101)\n",
            "Requirement already satisfied: pillow>=4.1.1 in /usr/local/lib/python3.7/dist-packages (from torchvision) (7.1.2)\n",
            "Requirement already satisfied: torch==1.8.1 in /usr/local/lib/python3.7/dist-packages (from torchvision) (1.8.1+cu101)\n",
            "Requirement already satisfied: numpy in /usr/local/lib/python3.7/dist-packages (from torchvision) (1.19.5)\n",
            "Requirement already satisfied: typing-extensions in /usr/local/lib/python3.7/dist-packages (from torch==1.8.1->torchvision) (3.7.4.3)\n"
          ],
          "name": "stdout"
        }
      ]
    },
    {
      "cell_type": "code",
      "metadata": {
        "id": "7BEAvl3kub-D"
      },
      "source": [
        "import pandas as pd\n"
      ],
      "execution_count": 3,
      "outputs": []
    },
    {
      "cell_type": "code",
      "metadata": {
        "id": "EAU-Prm-unnf"
      },
      "source": [
        "import json\n",
        "import os\n",
        "from sentence_transformers import SentenceTransformer, util\n",
        "import pickle"
      ],
      "execution_count": 4,
      "outputs": []
    },
    {
      "cell_type": "code",
      "metadata": {
        "colab": {
          "base_uri": "https://localhost:8080/"
        },
        "id": "gpMHjNhEO8gP",
        "outputId": "6e5c0ea4-d8bb-427b-afc8-99eebdeb83d0"
      },
      "source": [
        "dataset_file= ['/content/drive/MyDrive/downloads/charities_bc.json','/content/charities_mb.json','/content/charities_nb.json','/content/charities_nl.json',\n",
        "               '/content/charities_ns.json','/content/charities_nu.json','/content/charities_on.json']\n",
        "index = 0\n",
        "with open(dataset_file[index]) as fIn:\n",
        "        papers = json.load(fIn)\n",
        "\n",
        "print(len(papers))"
      ],
      "execution_count": 5,
      "outputs": [
        {
          "output_type": "stream",
          "text": [
            "12386\n"
          ],
          "name": "stdout"
        }
      ]
    },
    {
      "cell_type": "code",
      "metadata": {
        "id": "hGznhKqISY5l"
      },
      "source": [
        "import torch"
      ],
      "execution_count": 12,
      "outputs": []
    },
    {
      "cell_type": "code",
      "metadata": {
        "id": "cuLzcQftQD_E"
      },
      "source": [
        "model = SentenceTransformer('allenai-specter')\n",
        "# papers = df.Description.values\n",
        "\n",
        "with open('model_specter','wb') as f:\n",
        "  pickle.dump(model,f)\n"
      ],
      "execution_count": null,
      "outputs": []
    },
    {
      "cell_type": "code",
      "metadata": {
        "id": "mSJsC74SQWLf"
      },
      "source": [
        ""
      ],
      "execution_count": null,
      "outputs": []
    },
    {
      "cell_type": "code",
      "metadata": {
        "colab": {
          "base_uri": "https://localhost:8080/"
        },
        "id": "_UTNXDdgdyfK",
        "outputId": "6adca00b-fff5-449f-c064-9c58d0df0116"
      },
      "source": [
        "\n",
        "#First, we load the papers dataset (with title and abstract information)\n",
        "dataset_file= ['/content/drive/MyDrive/downloads/charities_bc.json','/content/drive/MyDrive/downloads/charities_mb.json',\n",
        "               '/content/drive/MyDrive/downloads/charities_nb.json','/content/drive/MyDrive/downloads/charities_nl.json',\n",
        "               '/content/drive/MyDrive/downloads/charities_ns.json','/content/drive/MyDrive/downloads/charities_nu.json',\n",
        "               '/content/drive/MyDrive/downloads/charities_on.json','/content/drive/MyDrive/downloads/charities_pe.json',\n",
        "               '/content/drive/MyDrive/downloads/charities_qc.json','/content/drive/MyDrive/downloads/charities_sk.json',\n",
        "               '/content/drive/MyDrive/downloads/charities_yt.json','/content/drive/MyDrive/downloads/charities_ab.json']\n",
        "\n",
        "# for line in open('/content/charities_mb.json', 'r'):\n",
        "#     dataset_file.append(json.loads(line))\n",
        "\n",
        "\n",
        "# print(len(papers), \"papers loaded\")\n",
        "\n",
        "# df = pd.read_csv('ccc-organizations-2011_1.csv')\n",
        "\n",
        "# paper_texts = [paper for paper in papers]\n",
        "\n",
        "#Compute embeddings for all descriptions\n",
        "\n",
        "        #  print(str(count)+ \")\" + \" Description of charity : \" +related_paper)\n",
        "        \n",
        "        #  subsetDataFrame = df[df['Description'] == related_paper]\n",
        "        #  k=subsetDataFrame.values\n",
        "        #  a_string = \"Name of Organization\"\n",
        "        #  print(\"\\033[1m\" + a_string + \"\\033[0m\")\n",
        "        #  print(colored(str(k[0][1]), 'red'))\n",
        "        #  print(\" located in \" + str(k[0][7] + \" , Telephone : \" + str(k[0][3])))\n",
        "        #  print( \"Street address: \" + str(k[0][9])+ \"\\n\")\n",
        "with open('/content/model_specter',\"rb\") as f:\n",
        "\t\t\t\tmodel = pickle.load(f)\n",
        "\n",
        "enable_loc = str(input(\"Do you wish to enable location ? \")) \n",
        "location = \"\"\n",
        "index = len(dataset_file)-1\n",
        "if location == \"yes\":\n",
        "    location(str(input(\"Enter the preferred Province in Code(Example : AB for alberta)  \")))\n",
        "    if location == \"BC\":\n",
        "        index = 0\n",
        "    elif location == \"MB\" :\n",
        "        index = 1\n",
        "    elif location == \"NB\" :\n",
        "        index = 2\n",
        "    elif location == \"NS\" :\n",
        "        index = 3\n",
        "    elif location == \"NU\" : # NU = Nuanvat Canada\n",
        "        index = 4\n",
        "    elif location == \"PE\" : # prince edwards\n",
        "        index = 5\n",
        "    \n",
        "\n",
        "with open(dataset_file[index]) as fIn:\n",
        "        papers = json.load(fIn)\n",
        "\n",
        "# paper_texts = [paper['Charity Name'] + '[SEP]' + paper['City'] + '[SEP]' + paper['Charity Type'] for paper in papers]\n",
        "\n",
        "paper_texts = [paper['Charity Name'] + '[SEP]' + paper['City'] + '[SEP]' + paper['Charity Type'] + '[SEP]' +\n",
        "               paper['Ongoing Programs']for paper in papers]\n",
        "\n",
        "\n",
        "corpus_embeddings = model.encode(paper_texts, convert_to_tensor=True)\n",
        "\n",
        "x = torch.tensor(corpus_embeddings)\n",
        "torch.save(x, 'charities_tensor.pt')\n",
        "\n",
        "# corpus_embeddings = torch.load(\"pdfreader/tensor_twenty_thousand_OG_twice.pt\")\n",
        "from termcolor import colored\n",
        "\n",
        "charities = []\n",
        "def search_papers(title):\n",
        "   query_embedding = model.encode('[CLS]'+title+'[SEP]', convert_to_tensor=True) # Converts to tensor\n",
        "   search_hits = util.semantic_search(query_embedding, corpus_embeddings)\n",
        "   search_hits = search_hits[0]\n",
        "   count = 0\n",
        "   top_header = \"Top 10 charities related\"\n",
        "   print(colored(top_header,'blue'))\n",
        "   for hit in search_hits:\n",
        "         related_paper = papers[hit['corpus_id']]\n",
        "         count += 1\n",
        "         print(str(count)+\". \"+colored(related_paper['Charity Name'],'red'))\n",
        "         print(related_paper['Charity Type'])\n",
        "         print(related_paper['City'])\n",
        "         print(\"similiarity score of \" + str(format(search_hits[count-1]['score'],\".2f\")))\n",
        "\n",
        "search_papers(title=input(str()))\n"
      ],
      "execution_count": 16,
      "outputs": [
        {
          "output_type": "stream",
          "text": [
            "Do you wish to enable location ? yes\n"
          ],
          "name": "stdout"
        },
        {
          "output_type": "stream",
          "text": [
            "/usr/local/lib/python3.7/dist-packages/ipykernel_launcher.py:64: UserWarning: To copy construct from a tensor, it is recommended to use sourceTensor.clone().detach() or sourceTensor.clone().detach().requires_grad_(True), rather than torch.tensor(sourceTensor).\n"
          ],
          "name": "stderr"
        },
        {
          "output_type": "stream",
          "text": [
            "I am willing to donate to cancer causes\n",
            "\u001b[34mTop 10 charities related\u001b[0m\n",
            "1. \u001b[31mCLIMB BACK FROM CANCER FOUNDATION\u001b[0m\n",
            "Other purposes beneficial to the community\n",
            "CANMORE\n",
            "similiarity score of 0.83\n",
            "2. \u001b[31mCastiglione Family Foundation\u001b[0m\n",
            "Other purposes beneficial to the community\n",
            "OKOTOKS\n",
            "similiarity score of 0.83\n",
            "3. \u001b[31mTHE JOHN H AND MARIE KOZIAK FAMILY FOUNDATION\u001b[0m\n",
            "Other purposes beneficial to the community\n",
            "EDMONTON\n",
            "similiarity score of 0.83\n",
            "4. \u001b[31mBONNIE & DARYL HOWARD CHARITABLE FOUNDATION\u001b[0m\n",
            "Other purposes beneficial to the community\n",
            "CALGARY\n",
            "similiarity score of 0.83\n",
            "5. \u001b[31mOld Hope Society\u001b[0m\n",
            "Other purposes beneficial to the community\n",
            "STONY PLAIN\n",
            "similiarity score of 0.83\n",
            "6. \u001b[31mBaby It's Cold Outside Charitable Society\u001b[0m\n",
            "Relief of Poverty\n",
            "OKOTOKS\n",
            "similiarity score of 0.82\n",
            "7. \u001b[31mORIOLE CHARITABLE FOUNDATION\u001b[0m\n",
            "Other purposes beneficial to the community\n",
            "CANMORE\n",
            "similiarity score of 0.82\n",
            "8. \u001b[31mCancer Chic Trust\u001b[0m\n",
            "Other purposes beneficial to the community\n",
            "COCHRANE\n",
            "similiarity score of 0.82\n",
            "9. \u001b[31mBelieve in the Gold\u001b[0m\n",
            "Other purposes beneficial to the community\n",
            "CALGARY\n",
            "similiarity score of 0.82\n",
            "10. \u001b[31mHOSPICE CALGARY FOUNDATION\u001b[0m\n",
            "Other purposes beneficial to the community\n",
            "CALGARY\n",
            "similiarity score of 0.82\n"
          ],
          "name": "stdout"
        }
      ]
    },
    {
      "cell_type": "markdown",
      "metadata": {
        "id": "ulIuP94zmA09"
      },
      "source": [
        "# Loading csv file and storing in pandas framework to later convert to type (list)"
      ]
    },
    {
      "cell_type": "code",
      "metadata": {
        "colab": {
          "base_uri": "https://localhost:8080/",
          "height": 66,
          "referenced_widgets": [
            "98b3a57813664784b6f83e55abbf747f",
            "ab41bdcc29e741ceb87754954403d3f7",
            "32c2db74c7904b7f9a365ce27ad8b886",
            "f14a564e402048c2bc575ed1e26a43b9",
            "0f99d3cc41db49f59e8969fca612d07a",
            "405e49063351429cb63a4a498ec52454",
            "7035f57ff1074083b30a95b115f0bb18",
            "2cdc2549e9c543fa91ae59a51419dd7b"
          ]
        },
        "id": "qD_GkpyiuiYM",
        "outputId": "9437e851-295e-4c66-9f12-17e98a7ba7a0"
      },
      "source": [
        "# df = pd.read_csv('ccc-organizations-2011_1.csv')\n",
        "\n",
        "model = SentenceTransformer('allenai-specter')\n",
        "# papers = df.Description.values\n",
        "\n",
        "\n",
        "paper_texts = [paper['Charity Name'] + '[SEP]' + paper['City'] + '[SEP]' + paper['Charity Type'] for paper in papers]\n",
        "# paper_texts = [paper for paper in papers]\n",
        "\n",
        "#Compute embeddings for all descriptions\n",
        "corpus_embeddings = model.encode(paper_texts, convert_to_tensor=True)\n"
      ],
      "execution_count": null,
      "outputs": [
        {
          "output_type": "display_data",
          "data": {
            "application/vnd.jupyter.widget-view+json": {
              "model_id": "98b3a57813664784b6f83e55abbf747f",
              "version_minor": 0,
              "version_major": 2
            },
            "text/plain": [
              "HBox(children=(FloatProgress(value=0.0, max=408146277.0), HTML(value='')))"
            ]
          },
          "metadata": {
            "tags": []
          }
        },
        {
          "output_type": "stream",
          "text": [
            "\n"
          ],
          "name": "stdout"
        }
      ]
    },
    {
      "cell_type": "code",
      "metadata": {
        "colab": {
          "base_uri": "https://localhost:8080/"
        },
        "id": "Ye6ayOwMqg2k",
        "outputId": "d09c328c-1eb9-4301-d0ee-d5a68198d036"
      },
      "source": [
        "corpus_embeddings"
      ],
      "execution_count": null,
      "outputs": [
        {
          "output_type": "execute_result",
          "data": {
            "text/plain": [
              "tensor([[-0.6710,  0.0400, -0.0973,  ...,  0.4796, -0.2082,  0.9784],\n",
              "        [-0.5945, -0.4216,  0.2490,  ..., -0.6085,  0.4518,  1.3944],\n",
              "        [-1.0892, -0.9989, -0.5606,  ..., -0.6330, -0.0900,  1.2581],\n",
              "        ...,\n",
              "        [-0.8077,  0.3113, -0.4928,  ..., -0.7483,  0.6021,  0.7379],\n",
              "        [-1.3837,  0.4570, -0.0068,  ..., -0.2989,  0.1655,  1.0907],\n",
              "        [ 0.1729,  0.5284, -0.7604,  ..., -0.1664,  0.5713,  0.1455]])"
            ]
          },
          "metadata": {
            "tags": []
          },
          "execution_count": 24
        }
      ]
    },
    {
      "cell_type": "code",
      "metadata": {
        "id": "DAeWttRjp-Qm"
      },
      "source": [
        "print(type())"
      ],
      "execution_count": null,
      "outputs": []
    },
    {
      "cell_type": "code",
      "metadata": {
        "id": "rH7nVXqop0Bb"
      },
      "source": [
        "import torch\n",
        "import torchvision\n",
        "import io"
      ],
      "execution_count": null,
      "outputs": []
    },
    {
      "cell_type": "code",
      "metadata": {
        "colab": {
          "base_uri": "https://localhost:8080/"
        },
        "id": "OVtYeNxdrDRR",
        "outputId": "5fe4e3cf-d443-4684-9449-8d3c36e45708"
      },
      "source": [
        "x = torch.tensor(corpus_embeddings)\n",
        "torch.save(x, 'tensor.pt')\n",
        " # Save to io.BytesIO buffer\n",
        "buffer = io.BytesIO()\n",
        "torch.save(x, buffer)\n",
        "a = torch.load(\"tensor.pt\")"
      ],
      "execution_count": null,
      "outputs": [
        {
          "output_type": "stream",
          "text": [
            "/usr/local/lib/python3.7/dist-packages/ipykernel_launcher.py:1: UserWarning: To copy construct from a tensor, it is recommended to use sourceTensor.clone().detach() or sourceTensor.clone().detach().requires_grad_(True), rather than torch.tensor(sourceTensor).\n",
            "  \"\"\"Entry point for launching an IPython kernel.\n"
          ],
          "name": "stderr"
        }
      ]
    },
    {
      "cell_type": "markdown",
      "metadata": {
        "id": "CDm8wMntkiCa"
      },
      "source": [
        "# Saving model"
      ]
    },
    {
      "cell_type": "code",
      "metadata": {
        "id": "08ez7wdtkr_J"
      },
      "source": [
        "import pickle\n",
        "with open('model_AB','wb') as f:\n",
        "  pickle.dump(model,f)\n"
      ],
      "execution_count": null,
      "outputs": []
    },
    {
      "cell_type": "code",
      "metadata": {
        "colab": {
          "base_uri": "https://localhost:8080/"
        },
        "id": "bLN1xQCjvVaH",
        "outputId": "ed23db3c-d732-442d-bbbb-5666a5341569"
      },
      "source": [
        "from termcolor import colored\n",
        "\n",
        "charities = []\n",
        "def search_papers(title):\n",
        "   query_embedding = model.encode('[CLS]'+title+'[SEP]', convert_to_tensor=True) # Converts to tensor\n",
        "   search_hits = util.semantic_search(query_embedding, corpus_embeddings)\n",
        "   search_hits = search_hits[0]\n",
        "   count = 0\n",
        "   top_header = \"Top 10 charities related\"\n",
        "   print(colored(top_header,'blue'))\n",
        "   for hit in search_hits:\n",
        "         related_paper = papers[hit['corpus_id']]\n",
        "         count += 1\n",
        "         print(str(count)+\". \"+colored(related_paper['Charity Name'],'red'))\n",
        "         print(related_paper['Charity Type'])\n",
        "         print(related_paper['City'])\n",
        "         print(\"similiarity score of \" + str(format(search_hits[count-1]['score'],\".2f\")))\n",
        "        #  print(str(count)+ \")\" + \" Description of charity : \" +related_paper)\n",
        "        \n",
        "        #  subsetDataFrame = df[df['Description'] == related_paper]\n",
        "        #  k=subsetDataFrame.values\n",
        "        #  a_string = \"Name of Organization\"\n",
        "        #  print(\"\\033[1m\" + a_string + \"\\033[0m\")\n",
        "        #  print(colored(str(k[0][1]), 'red'))\n",
        "        #  print(\" located in \" + str(k[0][7] + \" , Telephone : \" + str(k[0][3])))\n",
        "        #  print( \"Street address: \" + str(k[0][9])+ \"\\n\")\n",
        "         \n",
        "search_papers(title=input(str()))\n",
        "\n",
        "# search_papers(\"eyes\")"
      ],
      "execution_count": null,
      "outputs": [
        {
          "output_type": "stream",
          "text": [
            "eyes\n",
            "\u001b[34mTop 10 charities related\u001b[0m\n",
            "1. \u001b[31mOperation Eyesight Canada\u001b[0m\n",
            "Other purposes beneficial to the community\n",
            "CALGARY\n",
            "similiarity score of 0.87\n",
            "2. \u001b[31mOptometry Giving Sight\u001b[0m\n",
            "Other purposes beneficial to the community\n",
            "CALGARY\n",
            "similiarity score of 0.85\n",
            "3. \u001b[31mHINTON GOOD COMPANIONS\u001b[0m\n",
            "Other purposes beneficial to the community\n",
            "HINTON\n",
            "similiarity score of 0.82\n",
            "4. \u001b[31mLAKE OLIVA CEMETRY\u001b[0m\n",
            "Other purposes beneficial to the community\n",
            "VIKING\n",
            "similiarity score of 0.81\n",
            "5. \u001b[31mYWCA Edmonton\u001b[0m\n",
            "Other purposes beneficial to the community\n",
            "EDMONTON\n",
            "similiarity score of 0.81\n",
            "6. \u001b[31mSPIRIT NORTH\u001b[0m\n",
            "Other purposes beneficial to the community\n",
            "CANMORE\n",
            "similiarity score of 0.81\n",
            "7. \u001b[31mEYEOPENER LIONS FOUNDATION (ELF)\u001b[0m\n",
            "Other purposes beneficial to the community\n",
            "CALGARY\n",
            "similiarity score of 0.80\n",
            "8. \u001b[31mTHE GIMBEL EYE FOUNDATION\u001b[0m\n",
            "Other purposes beneficial to the community\n",
            "CALGARY\n",
            "similiarity score of 0.80\n",
            "9. \u001b[31mLacie Foundation\u001b[0m\n",
            "Other purposes beneficial to the community\n",
            "EDMONTON\n",
            "similiarity score of 0.80\n",
            "10. \u001b[31mEngineering Little Miracles Foundation\u001b[0m\n",
            "Other purposes beneficial to the community\n",
            "OKOTOKS\n",
            "similiarity score of 0.79\n"
          ],
          "name": "stdout"
        }
      ]
    }
  ]
}