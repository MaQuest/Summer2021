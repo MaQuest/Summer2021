{
  "nbformat": 4,
  "nbformat_minor": 0,
  "metadata": {
    "colab": {
      "name": "pandas-read-html-for-webscraping.ipynb",
      "provenance": [],
      "collapsed_sections": [],
      "include_colab_link": true
    },
    "kernelspec": {
      "name": "python3",
      "display_name": "Python 3"
    }
  },
  "cells": [
    {
      "cell_type": "markdown",
      "metadata": {
        "id": "view-in-github",
        "colab_type": "text"
      },
      "source": [
        "<a href=\"https://colab.research.google.com/github/MaQuest/Summer2021/blob/main/pandas_read_html_for_webscraping.ipynb\" target=\"_parent\"><img src=\"https://colab.research.google.com/assets/colab-badge.svg\" alt=\"Open In Colab\"/></a>"
      ]
    },
    {
      "cell_type": "markdown",
      "metadata": {
        "id": "5WNm0Jm7Sg_B"
      },
      "source": [
        "# **Using pandas read_html to Web Scrape Data for Data Science** \n",
        "\n",
        "Chanin Nantasenamat\n",
        "\n",
        "<i>[Data Professor YouTube channel](http://youtube.com/dataprofessor), http://youtube.com/dataprofessor </i>\n",
        "\n",
        "In this Jupyter notebook, I will be showing you how to easily web scrape data using pandas read_html() function for your data science project. We will be web scraping NBA player stats data and perform a quick data exploration."
      ]
    },
    {
      "cell_type": "markdown",
      "metadata": {
        "id": "jsGSzqADSa0o"
      },
      "source": [
        "## **URL to the webpage \"2018-19 NBA Player Stats: Per Game\"**"
      ]
    },
    {
      "cell_type": "markdown",
      "metadata": {
        "id": "wlDt8TTxSvEz"
      },
      "source": [
        "Method 2"
      ]
    },
    {
      "cell_type": "code",
      "metadata": {
        "id": "-x78Rt_iRmCa"
      },
      "source": [
        "years = []\n",
        "\n",
        "links = []\n",
        "\n",
        "for i in range(1,130):\n",
        "    years.append(i)\n",
        "\n",
        "for year in years:\n",
        "    url = \"https://apps.cra-arc.gc.ca/ebci/hacc/srch/pub/bscSrch?dsrdPg=\"+str(year)+\"&q.ordrClmn=NAME&q.ordrRnk=ASC\"\n",
        "    links.append(url)\n",
        "\n",
        "links"
      ],
      "execution_count": null,
      "outputs": []
    },
    {
      "cell_type": "code",
      "metadata": {
        "id": "d0PkAE5k2zxz"
      },
      "source": [
        "fr = pd.read_html(links[0],header = 0)\n",
        "\n",
        "column_name = []\n",
        "for col in fr[0].columns:\n",
        "    column_name.append(col)\n"
      ],
      "execution_count": null,
      "outputs": []
    },
    {
      "cell_type": "code",
      "metadata": {
        "id": "1ORGrPAA3WWG",
        "colab": {
          "base_uri": "https://localhost:8080/"
        },
        "outputId": "7f139b3f-71b4-46d8-9cea-25af8b1bcc58"
      },
      "source": [
        "column_name"
      ],
      "execution_count": null,
      "outputs": [
        {
          "output_type": "execute_result",
          "data": {
            "text/plain": [
              "['Charity name', 'Status', 'Province/Territory', 'City', 'Effective date']"
            ]
          },
          "metadata": {
            "tags": []
          },
          "execution_count": 42
        }
      ]
    },
    {
      "cell_type": "markdown",
      "metadata": {
        "id": "fhVY2xJJS0FU"
      },
      "source": [
        "## **Read HTML webpage into pandas**"
      ]
    },
    {
      "cell_type": "code",
      "metadata": {
        "id": "yE_EfE-gPW1a"
      },
      "source": [
        "import pandas as pd"
      ],
      "execution_count": null,
      "outputs": []
    },
    {
      "cell_type": "markdown",
      "metadata": {
        "id": "Sk1EUVeFUXPq"
      },
      "source": [
        "### Using pd.read_html() function to read HTML webpage"
      ]
    },
    {
      "cell_type": "code",
      "metadata": {
        "id": "4sLS78K-S-r2"
      },
      "source": [
        "dr = []\n",
        "for j in range(len(links)-50):\n",
        "    dr.append(pd.read_html(links[j],header = 0))\n"
      ],
      "execution_count": null,
      "outputs": []
    },
    {
      "cell_type": "code",
      "metadata": {
        "id": "MfF_UZrUw6r9",
        "colab": {
          "base_uri": "https://localhost:8080/"
        },
        "outputId": "c96280b1-434f-4534-b463-01faa0a9ea1a"
      },
      "source": [
        ""
      ],
      "execution_count": null,
      "outputs": [
        {
          "output_type": "execute_result",
          "data": {
            "text/plain": [
              "[                                         Charity name  ... Effective date\n",
              " 0   ATLANTIC WILDLIFE INSTITUTE INC./INSTITUT ATLA...  ...     1996-03-12\n",
              " 1                  ATLAS COAL MINE HISTORICAL SOCIETY  ...     1991-01-01\n",
              " 2                                    ATLAS FOUNDATION  ...     2004-11-15\n",
              " 3                      ATLAS STAGE PRODUCTIONS CANADA  ...     2012-01-01\n",
              " 4               ATLAS STEELS EMPLOYEES' CHARITY FUND,  ...     2001-02-10\n",
              " ..                                                ...  ...            ...\n",
              " 95              AULD'S COVE VOLUNTEER FIRE DEPARTMENT  ...     1992-01-20\n",
              " 96                                 AULTSVILLE THEATRE  ...     2002-06-27\n",
              " 97                                       AUMKARA INC.  ...     1978-02-28\n",
              " 98  AUMONERIE COMMUNAUTAIRE DU NORD-OUEST DU NOUVE...  ...     2010-04-10\n",
              " 99                  AUMONERIE COMMUNAUTAIRE DU QUEBEC  ...     2001-01-01\n",
              " \n",
              " [100 rows x 5 columns]]"
            ]
          },
          "metadata": {
            "tags": []
          },
          "execution_count": 33
        }
      ]
    },
    {
      "cell_type": "markdown",
      "metadata": {
        "id": "iVtWB7zuUWIp"
      },
      "source": [
        "### How many tables are there in the webpage?"
      ]
    },
    {
      "cell_type": "code",
      "metadata": {
        "id": "BdIXrthuTApH",
        "colab": {
          "base_uri": "https://localhost:8080/"
        },
        "outputId": "f9ee0be0-220d-4f49-de80-a0ecdcdc6d11"
      },
      "source": [
        "len(dr)"
      ],
      "execution_count": null,
      "outputs": [
        {
          "output_type": "execute_result",
          "data": {
            "text/plain": [
              "79"
            ]
          },
          "metadata": {
            "tags": []
          },
          "execution_count": 34
        }
      ]
    },
    {
      "cell_type": "markdown",
      "metadata": {
        "id": "glCMVlkWU6ik"
      },
      "source": [
        "### Select the first table"
      ]
    },
    {
      "cell_type": "code",
      "metadata": {
        "id": "Pv0NHbFeTrEp",
        "colab": {
          "base_uri": "https://localhost:8080/"
        },
        "outputId": "e3858145-7709-4924-d6c4-9cb1f668974e"
      },
      "source": [
        "dr[0]"
      ],
      "execution_count": null,
      "outputs": [
        {
          "output_type": "execute_result",
          "data": {
            "text/plain": [
              "[                                         Charity name  ... Effective date\n",
              " 0   (A.C.C.E.S.) ACCESSIBLE COMMUNITY COUNSELLING ...  ...     1987-08-15\n",
              " 1   (B.O.I.) BARONS ORGANIZATION AND INVOLVEMENT S...  ...     2005-09-03\n",
              " 2                        (BURLINGTON) S A L T COUNCIL  ...     1998-10-31\n",
              " 3   (C A H R D ) CENTRE FOR ABORIGINAL HUMAN RESOU...  ...     1987-04-01\n",
              " 4      (C.N.P.S.) CONSERVE NATIVE PLANTS SOCIETY INC.  ...     2013-05-11\n",
              " ..                                                ...  ...            ...\n",
              " 95  Église Évangélique de la résurrection/Resurrec...  ...     2012-01-23\n",
              " 96                Église Évangélique de la Fraternité  ...     2011-01-01\n",
              " 97            Église Évangélique de la Mission Divine  ...     2020-05-27\n",
              " 98            Église Évangélique de la Réconciliation  ...     2010-08-23\n",
              " 99                Église Évangélique de la Rédemption  ...     2017-02-24\n",
              " \n",
              " [100 rows x 5 columns]]"
            ]
          },
          "metadata": {
            "tags": []
          },
          "execution_count": 35
        }
      ]
    },
    {
      "cell_type": "code",
      "metadata": {
        "id": "EsrwRSQa2Cg1",
        "colab": {
          "base_uri": "https://localhost:8080/",
          "height": 407
        },
        "outputId": "c989c561-747c-457f-8c1b-d032f4427f71"
      },
      "source": [
        "from pandas import DataFrame\n",
        "\n",
        "dq = []\n",
        "for q in range(78):\n",
        "    df = DataFrame(dr[q][0],columns=column_name)\n",
        "    dq.append(df)\n",
        "concat = pd.concat(dq)\n",
        "concat"
      ],
      "execution_count": null,
      "outputs": [
        {
          "output_type": "execute_result",
          "data": {
            "text/html": [
              "<div>\n",
              "<style scoped>\n",
              "    .dataframe tbody tr th:only-of-type {\n",
              "        vertical-align: middle;\n",
              "    }\n",
              "\n",
              "    .dataframe tbody tr th {\n",
              "        vertical-align: top;\n",
              "    }\n",
              "\n",
              "    .dataframe thead th {\n",
              "        text-align: right;\n",
              "    }\n",
              "</style>\n",
              "<table border=\"1\" class=\"dataframe\">\n",
              "  <thead>\n",
              "    <tr style=\"text-align: right;\">\n",
              "      <th></th>\n",
              "      <th>Charity name</th>\n",
              "      <th>Status</th>\n",
              "      <th>Province/Territory</th>\n",
              "      <th>City</th>\n",
              "      <th>Effective date</th>\n",
              "    </tr>\n",
              "  </thead>\n",
              "  <tbody>\n",
              "    <tr>\n",
              "      <th>0</th>\n",
              "      <td>(A.C.C.E.S.) ACCESSIBLE COMMUNITY COUNSELLING ...</td>\n",
              "      <td>Registered</td>\n",
              "      <td>ON</td>\n",
              "      <td>TORONTO</td>\n",
              "      <td>1987-08-15</td>\n",
              "    </tr>\n",
              "    <tr>\n",
              "      <th>1</th>\n",
              "      <td>(B.O.I.) BARONS ORGANIZATION AND INVOLVEMENT S...</td>\n",
              "      <td>Revoked-Failure to File</td>\n",
              "      <td>BC</td>\n",
              "      <td>VICTORIA</td>\n",
              "      <td>2005-09-03</td>\n",
              "    </tr>\n",
              "    <tr>\n",
              "      <th>2</th>\n",
              "      <td>(BURLINGTON) S A L T COUNCIL</td>\n",
              "      <td>Revoked-Voluntary</td>\n",
              "      <td>ON</td>\n",
              "      <td>BURLINGTON</td>\n",
              "      <td>1998-10-31</td>\n",
              "    </tr>\n",
              "    <tr>\n",
              "      <th>3</th>\n",
              "      <td>(C A H R D ) CENTRE FOR ABORIGINAL HUMAN RESOU...</td>\n",
              "      <td>Registered</td>\n",
              "      <td>MB</td>\n",
              "      <td>WINNIPEG</td>\n",
              "      <td>1987-04-01</td>\n",
              "    </tr>\n",
              "    <tr>\n",
              "      <th>4</th>\n",
              "      <td>(C.N.P.S.) CONSERVE NATIVE PLANTS SOCIETY INC.</td>\n",
              "      <td>Revoked-Voluntary</td>\n",
              "      <td>MB</td>\n",
              "      <td>WINNIPEG</td>\n",
              "      <td>2013-05-11</td>\n",
              "    </tr>\n",
              "    <tr>\n",
              "      <th>...</th>\n",
              "      <td>...</td>\n",
              "      <td>...</td>\n",
              "      <td>...</td>\n",
              "      <td>...</td>\n",
              "      <td>...</td>\n",
              "    </tr>\n",
              "    <tr>\n",
              "      <th>95</th>\n",
              "      <td>BenefAction Foundation</td>\n",
              "      <td>Registered</td>\n",
              "      <td>ON</td>\n",
              "      <td>TORONTO</td>\n",
              "      <td>2008-05-22</td>\n",
              "    </tr>\n",
              "    <tr>\n",
              "      <th>96</th>\n",
              "      <td>Benevolent Irish Society Charitable Foundation...</td>\n",
              "      <td>Registered</td>\n",
              "      <td>NL</td>\n",
              "      <td>SAINT JOHN'S</td>\n",
              "      <td>2009-02-16</td>\n",
              "    </tr>\n",
              "    <tr>\n",
              "      <th>97</th>\n",
              "      <td>Benevolent Relief Senior Care Society</td>\n",
              "      <td>Revoked-Failure to File</td>\n",
              "      <td>BC</td>\n",
              "      <td>RICHMOND</td>\n",
              "      <td>2020-11-07</td>\n",
              "    </tr>\n",
              "    <tr>\n",
              "      <th>98</th>\n",
              "      <td>Benevolent Trust Foundation</td>\n",
              "      <td>Registered</td>\n",
              "      <td>AB</td>\n",
              "      <td>BON ACCORD</td>\n",
              "      <td>2009-01-01</td>\n",
              "    </tr>\n",
              "    <tr>\n",
              "      <th>99</th>\n",
              "      <td>Bengali Association of Calgary</td>\n",
              "      <td>Registered</td>\n",
              "      <td>AB</td>\n",
              "      <td>CALGARY</td>\n",
              "      <td>2016-11-28</td>\n",
              "    </tr>\n",
              "  </tbody>\n",
              "</table>\n",
              "<p>7800 rows × 5 columns</p>\n",
              "</div>"
            ],
            "text/plain": [
              "                                         Charity name  ... Effective date\n",
              "0   (A.C.C.E.S.) ACCESSIBLE COMMUNITY COUNSELLING ...  ...     1987-08-15\n",
              "1   (B.O.I.) BARONS ORGANIZATION AND INVOLVEMENT S...  ...     2005-09-03\n",
              "2                        (BURLINGTON) S A L T COUNCIL  ...     1998-10-31\n",
              "3   (C A H R D ) CENTRE FOR ABORIGINAL HUMAN RESOU...  ...     1987-04-01\n",
              "4      (C.N.P.S.) CONSERVE NATIVE PLANTS SOCIETY INC.  ...     2013-05-11\n",
              "..                                                ...  ...            ...\n",
              "95                             BenefAction Foundation  ...     2008-05-22\n",
              "96  Benevolent Irish Society Charitable Foundation...  ...     2009-02-16\n",
              "97              Benevolent Relief Senior Care Society  ...     2020-11-07\n",
              "98                        Benevolent Trust Foundation  ...     2009-01-01\n",
              "99                     Bengali Association of Calgary  ...     2016-11-28\n",
              "\n",
              "[7800 rows x 5 columns]"
            ]
          },
          "metadata": {
            "tags": []
          },
          "execution_count": 65
        }
      ]
    }
  ]
}