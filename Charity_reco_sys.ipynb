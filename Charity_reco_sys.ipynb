{
  "nbformat": 4,
  "nbformat_minor": 0,
  "metadata": {
    "colab": {
      "name": "Charity_reco_sys.ipynb",
      "provenance": [],
      "mount_file_id": "1Ww0RDnfwnxX9Y6XC2-rwgzaF2sigq12F",
      "authorship_tag": "ABX9TyONX5X6ZREFIW1TTZ6OVxTI",
      "include_colab_link": true
    },
    "kernelspec": {
      "name": "python3",
      "display_name": "Python 3"
    },
    "language_info": {
      "name": "python"
    },
    "accelerator": "GPU"
  },
  "cells": [
    {
      "cell_type": "markdown",
      "metadata": {
        "id": "view-in-github",
        "colab_type": "text"
      },
      "source": [
        "<a href=\"https://colab.research.google.com/github/MaQuest/Summer2021/blob/main/Charity_reco_sys.ipynb\" target=\"_parent\"><img src=\"https://colab.research.google.com/assets/colab-badge.svg\" alt=\"Open In Colab\"/></a>"
      ]
    },
    {
      "cell_type": "code",
      "metadata": {
        "id": "we8CrbSIr3sd",
        "colab": {
          "base_uri": "https://localhost:8080/"
        },
        "outputId": "6f5dd947-4c2f-4692-b09b-9020606eafe2"
      },
      "source": [
        "!pip install sentence-transformers"
      ],
      "execution_count": 1,
      "outputs": [
        {
          "output_type": "stream",
          "text": [
            "Collecting sentence-transformers\n",
            "\u001b[?25l  Downloading https://files.pythonhosted.org/packages/3b/fd/8a81047bbd9fa134a3f27e12937d2a487bd49d353a038916a5d7ed4e5543/sentence-transformers-2.0.0.tar.gz (85kB)\n",
            "\u001b[K     |████████████████████████████████| 92kB 11.9MB/s \n",
            "\u001b[?25hCollecting transformers<5.0.0,>=4.6.0\n",
            "\u001b[?25l  Downloading https://files.pythonhosted.org/packages/fd/1a/41c644c963249fd7f3836d926afa1e3f1cc234a1c40d80c5f03ad8f6f1b2/transformers-4.8.2-py3-none-any.whl (2.5MB)\n",
            "\u001b[K     |████████████████████████████████| 2.5MB 21.1MB/s \n",
            "\u001b[?25hRequirement already satisfied: tqdm in /usr/local/lib/python3.7/dist-packages (from sentence-transformers) (4.41.1)\n",
            "Requirement already satisfied: torch>=1.6.0 in /usr/local/lib/python3.7/dist-packages (from sentence-transformers) (1.9.0+cu102)\n",
            "Requirement already satisfied: torchvision in /usr/local/lib/python3.7/dist-packages (from sentence-transformers) (0.10.0+cu102)\n",
            "Requirement already satisfied: numpy in /usr/local/lib/python3.7/dist-packages (from sentence-transformers) (1.19.5)\n",
            "Requirement already satisfied: scikit-learn in /usr/local/lib/python3.7/dist-packages (from sentence-transformers) (0.22.2.post1)\n",
            "Requirement already satisfied: scipy in /usr/local/lib/python3.7/dist-packages (from sentence-transformers) (1.4.1)\n",
            "Requirement already satisfied: nltk in /usr/local/lib/python3.7/dist-packages (from sentence-transformers) (3.2.5)\n",
            "Collecting sentencepiece\n",
            "\u001b[?25l  Downloading https://files.pythonhosted.org/packages/ac/aa/1437691b0c7c83086ebb79ce2da16e00bef024f24fec2a5161c35476f499/sentencepiece-0.1.96-cp37-cp37m-manylinux_2_17_x86_64.manylinux2014_x86_64.whl (1.2MB)\n",
            "\u001b[K     |████████████████████████████████| 1.2MB 43.0MB/s \n",
            "\u001b[?25hCollecting huggingface-hub\n",
            "  Downloading https://files.pythonhosted.org/packages/35/03/071adc023c0a7e540cf4652fa9cad13ab32e6ae469bf0cc0262045244812/huggingface_hub-0.0.13-py3-none-any.whl\n",
            "Collecting tokenizers<0.11,>=0.10.1\n",
            "\u001b[?25l  Downloading https://files.pythonhosted.org/packages/d4/e2/df3543e8ffdab68f5acc73f613de9c2b155ac47f162e725dcac87c521c11/tokenizers-0.10.3-cp37-cp37m-manylinux_2_5_x86_64.manylinux1_x86_64.manylinux_2_12_x86_64.manylinux2010_x86_64.whl (3.3MB)\n",
            "\u001b[K     |████████████████████████████████| 3.3MB 34.0MB/s \n",
            "\u001b[?25hRequirement already satisfied: requests in /usr/local/lib/python3.7/dist-packages (from transformers<5.0.0,>=4.6.0->sentence-transformers) (2.23.0)\n",
            "Requirement already satisfied: filelock in /usr/local/lib/python3.7/dist-packages (from transformers<5.0.0,>=4.6.0->sentence-transformers) (3.0.12)\n",
            "Requirement already satisfied: importlib-metadata; python_version < \"3.8\" in /usr/local/lib/python3.7/dist-packages (from transformers<5.0.0,>=4.6.0->sentence-transformers) (4.5.0)\n",
            "Requirement already satisfied: regex!=2019.12.17 in /usr/local/lib/python3.7/dist-packages (from transformers<5.0.0,>=4.6.0->sentence-transformers) (2019.12.20)\n",
            "Requirement already satisfied: pyyaml in /usr/local/lib/python3.7/dist-packages (from transformers<5.0.0,>=4.6.0->sentence-transformers) (3.13)\n",
            "Collecting sacremoses\n",
            "\u001b[?25l  Downloading https://files.pythonhosted.org/packages/75/ee/67241dc87f266093c533a2d4d3d69438e57d7a90abb216fa076e7d475d4a/sacremoses-0.0.45-py3-none-any.whl (895kB)\n",
            "\u001b[K     |████████████████████████████████| 901kB 42.8MB/s \n",
            "\u001b[?25hRequirement already satisfied: packaging in /usr/local/lib/python3.7/dist-packages (from transformers<5.0.0,>=4.6.0->sentence-transformers) (20.9)\n",
            "Requirement already satisfied: typing-extensions in /usr/local/lib/python3.7/dist-packages (from torch>=1.6.0->sentence-transformers) (3.7.4.3)\n",
            "Requirement already satisfied: pillow>=5.3.0 in /usr/local/lib/python3.7/dist-packages (from torchvision->sentence-transformers) (7.1.2)\n",
            "Requirement already satisfied: joblib>=0.11 in /usr/local/lib/python3.7/dist-packages (from scikit-learn->sentence-transformers) (1.0.1)\n",
            "Requirement already satisfied: six in /usr/local/lib/python3.7/dist-packages (from nltk->sentence-transformers) (1.15.0)\n",
            "Requirement already satisfied: certifi>=2017.4.17 in /usr/local/lib/python3.7/dist-packages (from requests->transformers<5.0.0,>=4.6.0->sentence-transformers) (2021.5.30)\n",
            "Requirement already satisfied: urllib3!=1.25.0,!=1.25.1,<1.26,>=1.21.1 in /usr/local/lib/python3.7/dist-packages (from requests->transformers<5.0.0,>=4.6.0->sentence-transformers) (1.24.3)\n",
            "Requirement already satisfied: chardet<4,>=3.0.2 in /usr/local/lib/python3.7/dist-packages (from requests->transformers<5.0.0,>=4.6.0->sentence-transformers) (3.0.4)\n",
            "Requirement already satisfied: idna<3,>=2.5 in /usr/local/lib/python3.7/dist-packages (from requests->transformers<5.0.0,>=4.6.0->sentence-transformers) (2.10)\n",
            "Requirement already satisfied: zipp>=0.5 in /usr/local/lib/python3.7/dist-packages (from importlib-metadata; python_version < \"3.8\"->transformers<5.0.0,>=4.6.0->sentence-transformers) (3.4.1)\n",
            "Requirement already satisfied: click in /usr/local/lib/python3.7/dist-packages (from sacremoses->transformers<5.0.0,>=4.6.0->sentence-transformers) (7.1.2)\n",
            "Requirement already satisfied: pyparsing>=2.0.2 in /usr/local/lib/python3.7/dist-packages (from packaging->transformers<5.0.0,>=4.6.0->sentence-transformers) (2.4.7)\n",
            "Building wheels for collected packages: sentence-transformers\n",
            "  Building wheel for sentence-transformers (setup.py) ... \u001b[?25l\u001b[?25hdone\n",
            "  Created wheel for sentence-transformers: filename=sentence_transformers-2.0.0-cp37-none-any.whl size=126711 sha256=2f52aa46dfbf693065a965d5f08579f0b73d2c8137fddb10e32b55d2325d1525\n",
            "  Stored in directory: /root/.cache/pip/wheels/38/d2/98/d191289a877a34c68aa67e05179521e060f96394a3e9336be6\n",
            "Successfully built sentence-transformers\n",
            "\u001b[31mERROR: transformers 4.8.2 has requirement huggingface-hub==0.0.12, but you'll have huggingface-hub 0.0.13 which is incompatible.\u001b[0m\n",
            "Installing collected packages: tokenizers, huggingface-hub, sacremoses, transformers, sentencepiece, sentence-transformers\n",
            "Successfully installed huggingface-hub-0.0.13 sacremoses-0.0.45 sentence-transformers-2.0.0 sentencepiece-0.1.96 tokenizers-0.10.3 transformers-4.8.2\n"
          ],
          "name": "stdout"
        }
      ]
    },
    {
      "cell_type": "code",
      "metadata": {
        "id": "-aIQvhDqnDOl"
      },
      "source": [
        "import pandas as pd \n",
        "import numpy as np\n",
        "import json\n",
        "import os\n",
        "from sentence_transformers import SentenceTransformer, util\n",
        "import pickle"
      ],
      "execution_count": 5,
      "outputs": []
    },
    {
      "cell_type": "code",
      "metadata": {
        "colab": {
          "base_uri": "https://localhost:8080/"
        },
        "id": "3PrCFojSnO0_",
        "outputId": "2dfc4c87-7b51-4eba-9c96-4e29f12ab3e8"
      },
      "source": [
        "ratings = pd.read_csv('/content/drive/MyDrive/Collaborative Filtering Dataset/dataset/ratings.csv')\n",
        "charities_AB = pd.read_csv('/content/drive/MyDrive/Collaborative Filtering Dataset/dataset/charity_ab.csv',index_col=0)\n",
        "\n",
        "\n",
        "ratings_new = charities_AB.join(ratings).drop(['timestamp'],axis = 1)\n",
        "ratings_new.at[2781,'rating']= 4\n",
        "ratings_new.at[3379,'rating']= 5\n",
        "ratings_new.at[8033,'rating']= 5\n",
        "\n",
        "user_ratings = ratings_new.pivot_table(index = ['userId'], columns = ['Charity Name'] , values = 'rating')\n",
        "user_ratings = user_ratings.fillna(0)\n",
        "item_similiarity_df = user_ratings.corr(method = 'pearson') \n",
        "\n",
        "\n",
        "def get_similiar_movies(movie_name,user_rating):\n",
        "    similiar_score = item_similiarity_df[movie_name]*(user_rating-2.5)\n",
        "    similiar_score = similiar_score.sort_values(ascending = False)\n",
        "\n",
        "    return similiar_score\n",
        "\n",
        "\n",
        "\n",
        "df = pd.read_csv('/content/drive/MyDrive/Collaborative Filtering Dataset/dataset/charity_ab_updated.csv')\n",
        "\n",
        "papers = df['Charity Name'].values+\" \"+df['Charity Category'].values\n",
        "\n",
        "print(len(papers), \"Charities\")\n"
      ],
      "execution_count": 7,
      "outputs": [
        {
          "output_type": "stream",
          "text": [
            "9308 Charities\n"
          ],
          "name": "stdout"
        }
      ]
    },
    {
      "cell_type": "code",
      "metadata": {
        "id": "eGPcdHxjvKVK"
      },
      "source": [
        "file = open('/content/drive/MyDrive/Collaborative Filtering Dataset/dataset/finalized_charity_ab.sav', 'rb')\n",
        "\n",
        "# dump information to that file\n",
        "model = pickle.load(file)\n",
        "\n",
        "# close the file\n",
        "file.close()\n",
        "\n",
        "#To encode the descriptions to a single string\n",
        "paper_texts = [paper for paper in papers]\n",
        "\n",
        "corpus_embeddings = model.encode(paper_texts, convert_to_tensor=True)\n"
      ],
      "execution_count": 8,
      "outputs": []
    },
    {
      "cell_type": "code",
      "metadata": {
        "colab": {
          "base_uri": "https://localhost:8080/"
        },
        "id": "b4WzD061yItl",
        "outputId": "5a52d246-9928-4f8f-9a37-017e715f16f8"
      },
      "source": [
        "from termcolor import colored\n",
        "\n",
        "charities = []\n",
        "def search_papers(title):\n",
        "   query_embedding = model.encode(title+'[SEP]', convert_to_tensor=True) # Converts to tensor\n",
        "   search_hits = util.semantic_search(query_embedding, corpus_embeddings)\n",
        "   search_hits = search_hits[0]\n",
        "   count = 0\n",
        "   top_header = \"Top 10 charities related\"\n",
        "   print(colored(top_header,'blue'))\n",
        "   for hit in search_hits:\n",
        "         related_paper = papers[hit['corpus_id']]\n",
        "         count += 1\n",
        "         print(str(count)+ \")\" + \" Description of charity : \" +related_paper)\n",
        "         print(\"similiarity score of \" + str(format(search_hits[count-1]['score'],\".2f\")))\n",
        "         subsetDataFrame = df[df['Charity Name']+\" \"+df['Charity Category'] == related_paper]\n",
        "         k=subsetDataFrame.values\n",
        "         a_string = \"Name of Organization\"\n",
        "         print(\"\\033[1m\" + a_string + \"\\033[0m\")\n",
        "         print(colored(str(k[0][1]), 'red'))\n",
        "         charities.append(str(k[0][1]))\n",
        "         \n",
        "# search_papers(title=input(str()))\n",
        "\n",
        "search_papers(\"lungs\")"
      ],
      "execution_count": 16,
      "outputs": [
        {
          "output_type": "stream",
          "text": [
            "\u001b[34mTop 10 charities related\u001b[0m\n",
            "1) Description of charity : THE ALBERTA LUNG FOUNDATION Foundations\n",
            "similiarity score of 0.83\n",
            "\u001b[1mName of Organization\u001b[0m\n",
            "\u001b[31mTHE ALBERTA LUNG FOUNDATION\u001b[0m\n",
            "2) Description of charity : ALBERTA LUNG ASSOCIATION Core Health Care\n",
            "similiarity score of 0.81\n",
            "\u001b[1mName of Organization\u001b[0m\n",
            "\u001b[31mALBERTA LUNG ASSOCIATION\u001b[0m\n",
            "3) Description of charity : Al and Janet Petersen Foundation Foundations\n",
            "similiarity score of 0.81\n",
            "\u001b[1mName of Organization\u001b[0m\n",
            "\u001b[31mAl and Janet Petersen Foundation\u001b[0m\n",
            "4) Description of charity : Dear Heart Foundation Foundations\n",
            "similiarity score of 0.80\n",
            "\u001b[1mName of Organization\u001b[0m\n",
            "\u001b[31mDear Heart Foundation\u001b[0m\n",
            "5) Description of charity : STANDARD COMMUNITY CHEST Foundations\n",
            "similiarity score of 0.80\n",
            "\u001b[1mName of Organization\u001b[0m\n",
            "\u001b[31mSTANDARD COMMUNITY CHEST\u001b[0m\n",
            "6) Description of charity : Bruce Hagstrom Foundation Foundations\n",
            "similiarity score of 0.80\n",
            "\u001b[1mName of Organization\u001b[0m\n",
            "\u001b[31mBruce Hagstrom Foundation\u001b[0m\n",
            "7) Description of charity : Summit Foundation For Cystic Fibrosis Foundations\n",
            "similiarity score of 0.80\n",
            "\u001b[1mName of Organization\u001b[0m\n",
            "\u001b[31mSummit Foundation For Cystic Fibrosis\u001b[0m\n",
            "8) Description of charity : Mt 28 FOUNDATION Foundations\n",
            "similiarity score of 0.79\n",
            "\u001b[1mName of Organization\u001b[0m\n",
            "\u001b[31mMt 28 FOUNDATION\u001b[0m\n",
            "9) Description of charity : SIMON HOUSE RESIDENCE SOCIETY Core Health Care\n",
            "similiarity score of 0.79\n",
            "\u001b[1mName of Organization\u001b[0m\n",
            "\u001b[31mSIMON HOUSE RESIDENCE SOCIETY\u001b[0m\n",
            "10) Description of charity : CORPUS CHRISTI MALE CHORALE SOCIETY Foundations\n",
            "similiarity score of 0.79\n",
            "\u001b[1mName of Organization\u001b[0m\n",
            "\u001b[31mCORPUS CHRISTI MALE CHORALE SOCIETY\u001b[0m\n"
          ],
          "name": "stdout"
        }
      ]
    },
    {
      "cell_type": "code",
      "metadata": {
        "colab": {
          "base_uri": "https://localhost:8080/"
        },
        "id": "vmzziGOOzDRT",
        "outputId": "81b674fe-f952-4cea-8a4e-9728ebca9107"
      },
      "source": [
        "# CORPUS CHRISTI MALE CHORALE SOCIETY\n",
        "\n",
        "question = str(input(\"would you like to give a ratings to any of the top 10 recommendations? : \"))\n",
        "whichone = \"\"\n",
        "if (question == \"yes\") or (question == \" Yes\"):\n",
        "    whichone = str(input(\"Please enter the name of the charity : \"))\n",
        "    ratingof = int(input(\"Please Enter the rating you would like to give : \"))\n",
        "    print(ratingof)\n",
        "    print(whichone)\n",
        "    print(type(ratingof))\n",
        "\n",
        "action_lover = [(whichone,ratingof)]\n",
        "\n",
        "similiar_movies = pd.DataFrame()\n",
        "\n",
        "for movie,rating in action_lover:\n",
        "    similiar_movies = similiar_movies.append(get_similiar_movies(movie,rating),ignore_index= True)\n",
        "\n",
        "similiar_movies.head()\n",
        "similiar_movies.sum().sort_values(ascending = False)[:10]\n",
        "\n",
        "\n",
        "# Cosmopolitan Music society \n",
        "# Cornerstone youth\n",
        "# CORONATION & DISTRICT HISTORICAL & MUSEUM SOCIETY\n",
        "# COVENANT BAY BIBLE CAMP SOCIETY"
      ],
      "execution_count": 18,
      "outputs": [
        {
          "output_type": "stream",
          "text": [
            "would you like to give a ratings to any of the top 10 recommendations? : yes\n",
            "Please enter the name of the charity : CORPUS CHRISTI MALE CHORALE SOCIETY\n",
            "Please Enter the rating you would like to give : 5\n",
            "5\n",
            "CORPUS CHRISTI MALE CHORALE SOCIETY\n",
            "<class 'int'>\n"
          ],
          "name": "stdout"
        },
        {
          "output_type": "execute_result",
          "data": {
            "text/plain": [
              "DELBURNE UNITED CHURCH                               2.5\n",
              "DAVID THOMPSON BIBLE CAMP                            2.5\n",
              "COVENANT BAY BIBLE CAMP SOCIETY                      2.5\n",
              "COSMOS COMMUNITY DISABILITY SERVICES FOUNDATION      2.5\n",
              "COSMOPOLITAN MUSIC SOCIETY                           2.5\n",
              "CORONATION & DISTRICT HISTORICAL & MUSEUM SOCIETY    2.5\n",
              "CORNERSTONE YOUTH CENTRE (CALGARY) SOCIETY           2.5\n",
              "CORNERSTONE CHRISTIAN SCHOOL SOCIETY                 2.5\n",
              "COOKIE JAR NURSERY ASSOCIATION                       2.5\n",
              "CONSORT PASTORAL CHARGE                              2.5\n",
              "dtype: float64"
            ]
          },
          "metadata": {
            "tags": []
          },
          "execution_count": 18
        }
      ]
    },
    {
      "cell_type": "code",
      "metadata": {
        "id": "g9gJCL7tPrAC"
      },
      "source": [
        "ratings_local = [5,2,3,5,3,4,1,3,3,1]\n",
        "dat = {'Charity Name':charities,'rating':ratings_local}\n",
        "df_local = pd.DataFrame(dat)\n",
        "\n",
        "df_local.to_csv('charity_ab_updated_3.csv')\n",
        "!cp charity_ab_updated_3.csv \"drive/My Drive/\""
      ],
      "execution_count": 59,
      "outputs": []
    },
    {
      "cell_type": "code",
      "metadata": {
        "id": "ak-stZ9rTdZd"
      },
      "source": [
        "df1 = pd.read_csv('/content/charity_ab_local.csv',index_col=0)\n",
        "df2 = pd.read_csv('/content/charity_ab_updated_2.csv',index_col=0)\n",
        "df3 = pd.read_csv('/content/charity_ab_updated_3.csv',index_col=0)\n",
        "\n",
        "frames = [df1, df2, df3]\n",
        "\n",
        "result = pd.concat(frames)\n",
        "\n",
        "result"
      ],
      "execution_count": null,
      "outputs": []
    },
    {
      "cell_type": "code",
      "metadata": {
        "id": "ws7woCUyUA_U"
      },
      "source": [
        "user_ratings_char = result.pivot_table(columns = ['Charity Name'] , values = 'rating')\n",
        "\n",
        "user_ratings_char"
      ],
      "execution_count": null,
      "outputs": []
    },
    {
      "cell_type": "code",
      "metadata": {
        "id": "d6H5t5KtUTTr",
        "outputId": "23a4a233-1517-413f-a99c-f785ed19acf5",
        "colab": {
          "base_uri": "https://localhost:8080/",
          "height": 182
        }
      },
      "source": [
        "\n",
        "user_ratings_char = user_ratings_char.fillna(0)\n",
        "\n",
        "user_ratings_char.head()"
      ],
      "execution_count": 83,
      "outputs": [
        {
          "output_type": "execute_result",
          "data": {
            "text/html": [
              "<div>\n",
              "<style scoped>\n",
              "    .dataframe tbody tr th:only-of-type {\n",
              "        vertical-align: middle;\n",
              "    }\n",
              "\n",
              "    .dataframe tbody tr th {\n",
              "        vertical-align: top;\n",
              "    }\n",
              "\n",
              "    .dataframe thead th {\n",
              "        text-align: right;\n",
              "    }\n",
              "</style>\n",
              "<table border=\"1\" class=\"dataframe\">\n",
              "  <thead>\n",
              "    <tr style=\"text-align: right;\">\n",
              "      <th>Charity Name</th>\n",
              "      <th>ALBERTA LUNG ASSOCIATION</th>\n",
              "      <th>Al and Janet Petersen Foundation</th>\n",
              "      <th>BETHEL GOSPEL CHAPEL OF EDMONTON</th>\n",
              "      <th>BONNYVILLE VICTIM SERVICES SOCIETY</th>\n",
              "      <th>Beaverlodge &amp; Grande Prairie Evangelical Strangers Assembly</th>\n",
              "      <th>Branch Out Neurological Foundation</th>\n",
              "      <th>Bruce Hagstrom Foundation</th>\n",
              "      <th>CARDSTON VICTIM SERVICES ASSOCIATION</th>\n",
              "      <th>CORONATION PASTORAL CHARGE,</th>\n",
              "      <th>CORPUS CHRISTI MALE CHORALE SOCIETY</th>\n",
              "      <th>Dear Heart Foundation</th>\n",
              "      <th>EYEOPENER LIONS FOUNDATION (ELF)</th>\n",
              "      <th>FORT EDMONTON FOUNDATION</th>\n",
              "      <th>INNISFAIL PASTORAL CHARGE</th>\n",
              "      <th>LETHBRIDGE CRIME STOPPERS ASSOCIATION</th>\n",
              "      <th>Mt 28 FOUNDATION</th>\n",
              "      <th>Operation Eyesight Canada</th>\n",
              "      <th>Optometry Giving Sight</th>\n",
              "      <th>PAROISSE DE L'ASSOMPTION,</th>\n",
              "      <th>PAROISSE SAINTE ANNE</th>\n",
              "      <th>PAROISSE SAINTE-ANNE</th>\n",
              "      <th>SIMON HOUSE RESIDENCE SOCIETY</th>\n",
              "      <th>STANDARD COMMUNITY CHEST</th>\n",
              "      <th>Smiles from Spencer Foundation</th>\n",
              "      <th>Southeastern Alberta Sexual Assault Response Committee</th>\n",
              "      <th>Summit Foundation For Cystic Fibrosis</th>\n",
              "      <th>THE ALBERTA LUNG FOUNDATION</th>\n",
              "      <th>THE GIMBEL EYE FOUNDATION</th>\n",
              "      <th>VIEWPOINT FOUNDATION</th>\n",
              "    </tr>\n",
              "  </thead>\n",
              "  <tbody>\n",
              "    <tr>\n",
              "      <th>rating</th>\n",
              "      <td>2.0</td>\n",
              "      <td>3.0</td>\n",
              "      <td>5.0</td>\n",
              "      <td>3.0</td>\n",
              "      <td>4.0</td>\n",
              "      <td>5.0</td>\n",
              "      <td>4.0</td>\n",
              "      <td>1.0</td>\n",
              "      <td>2.0</td>\n",
              "      <td>1.0</td>\n",
              "      <td>4.5</td>\n",
              "      <td>5.0</td>\n",
              "      <td>4.0</td>\n",
              "      <td>3.0</td>\n",
              "      <td>1.0</td>\n",
              "      <td>3.0</td>\n",
              "      <td>4.0</td>\n",
              "      <td>5.0</td>\n",
              "      <td>5.0</td>\n",
              "      <td>1.0</td>\n",
              "      <td>2.0</td>\n",
              "      <td>3.0</td>\n",
              "      <td>3.0</td>\n",
              "      <td>5.0</td>\n",
              "      <td>2.0</td>\n",
              "      <td>1.0</td>\n",
              "      <td>5.0</td>\n",
              "      <td>5.0</td>\n",
              "      <td>5.0</td>\n",
              "    </tr>\n",
              "  </tbody>\n",
              "</table>\n",
              "</div>"
            ],
            "text/plain": [
              "Charity Name  ALBERTA LUNG ASSOCIATION  ...  VIEWPOINT FOUNDATION\n",
              "rating                             2.0  ...                   5.0\n",
              "\n",
              "[1 rows x 29 columns]"
            ]
          },
          "metadata": {
            "tags": []
          },
          "execution_count": 83
        }
      ]
    },
    {
      "cell_type": "code",
      "metadata": {
        "id": "VgqoXnrKXANK"
      },
      "source": [
        "item_similiarity_df_n = user_ratings_char.corr(method = 'pearson') \n",
        "\n",
        "\n",
        "item_similiarity_df_n.fillna(0)\n",
        "\n"
      ],
      "execution_count": null,
      "outputs": []
    },
    {
      "cell_type": "code",
      "metadata": {
        "id": "_WxfzccEVK-E"
      },
      "source": [
        "def get_similiar_movies_2(movie_name,user_rating):\n",
        "    similiar_score = item_similiarity_df_n[movie_name]*(user_rating)\n",
        "    similiar_score = similiar_score.sort_values(ascending = False)\n",
        "\n",
        "    return similiar_score"
      ],
      "execution_count": 86,
      "outputs": []
    },
    {
      "cell_type": "code",
      "metadata": {
        "id": "KPcY8IeFQ2nK",
        "outputId": "22fb2126-37c4-491b-d5e4-61f11a067317",
        "colab": {
          "base_uri": "https://localhost:8080/"
        }
      },
      "source": [
        "question = str(input(\"would you like to give a ratings to any of the top 10 recommendations? : \"))\n",
        "whichone = \"\"\n",
        "if (question == \"yes\") or (question == \" Yes\"):\n",
        "    whichone = str(input(\"Please enter the name of the charity : \"))\n",
        "    ratingof = int(input(\"Please Enter the rating you would like to give : \"))\n",
        "    print(ratingof)\n",
        "    print(whichone)\n",
        "    print(type(ratingof))\n",
        "\n",
        "action_lover_n = [(whichone,ratingof)]\n",
        "\n",
        "similiar_movies_n = pd.DataFrame()\n",
        "\n",
        "for movie,rating in action_lover_n:\n",
        "    similiar_movies_n = similiar_movies_n.append(get_similiar_movies_2(movie,rating),ignore_index= True)\n",
        "\n",
        "similiar_movies_n.head()\n",
        "similiar_movies_n.sum().sort_values(ascending = False)[:10]"
      ],
      "execution_count": 87,
      "outputs": [
        {
          "output_type": "stream",
          "text": [
            "would you like to give a ratings to any of the top 10 recommendations? : yes\n",
            "Please enter the name of the charity : EYEOPENER LIONS FOUNDATION (ELF)\n",
            "Please Enter the rating you would like to give : 5\n",
            "5\n",
            "EYEOPENER LIONS FOUNDATION (ELF)\n",
            "<class 'int'>\n"
          ],
          "name": "stdout"
        },
        {
          "output_type": "execute_result",
          "data": {
            "text/plain": [
              "VIEWPOINT FOUNDATION                                           0.0\n",
              "INNISFAIL PASTORAL CHARGE                                      0.0\n",
              "Al and Janet Petersen Foundation                               0.0\n",
              "BETHEL GOSPEL CHAPEL OF EDMONTON                               0.0\n",
              "BONNYVILLE VICTIM SERVICES SOCIETY                             0.0\n",
              "Beaverlodge & Grande Prairie Evangelical Strangers Assembly    0.0\n",
              "Branch Out Neurological Foundation                             0.0\n",
              "Bruce Hagstrom Foundation                                      0.0\n",
              "CARDSTON VICTIM SERVICES ASSOCIATION                           0.0\n",
              "CORONATION PASTORAL CHARGE,                                    0.0\n",
              "dtype: float64"
            ]
          },
          "metadata": {
            "tags": []
          },
          "execution_count": 87
        }
      ]
    },
    {
      "cell_type": "code",
      "metadata": {
        "id": "SifZKdvrQKS3"
      },
      "source": [
        "df_local.to_csv('charity_ab_local.csv')\n",
        "!cp charity_ab_local.csv \"drive/My Drive/\""
      ],
      "execution_count": 47,
      "outputs": []
    }
  ]
}